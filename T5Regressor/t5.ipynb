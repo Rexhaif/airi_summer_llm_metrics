{
 "cells": [
  {
   "cell_type": "code",
   "execution_count": 1,
   "id": "717b8293-c172-4128-b543-cf53d77f51e0",
   "metadata": {},
   "outputs": [
    {
     "data": {
      "text/plain": [
       "23.198486328125"
      ]
     },
     "execution_count": 1,
     "metadata": {},
     "output_type": "execute_result"
    }
   ],
   "source": [
    "import torch\n",
    "\n",
    "torch.cuda.mem_get_info()[0] / 1024**3"
   ]
  },
  {
   "cell_type": "code",
   "execution_count": 2,
   "id": "66414830-7d03-42d9-b24b-0720d2ff1915",
   "metadata": {},
   "outputs": [],
   "source": [
    "t5_model = \"google/flan-t5-base\"\n",
    "\n",
    "device = \"cuda:0\"\n",
    "\n",
    "random_seed = 42"
   ]
  },
  {
   "cell_type": "code",
   "execution_count": 3,
   "id": "f32b23da-d048-40ff-a42d-4f5ca18b81c7",
   "metadata": {},
   "outputs": [
    {
     "name": "stderr",
     "output_type": "stream",
     "text": [
      "\u001b[34m\u001b[1mwandb\u001b[0m: Currently logged in as: \u001b[33megoluback\u001b[0m (\u001b[33mhse_image_captioning_spring_project\u001b[0m). Use \u001b[1m`wandb login --relogin`\u001b[0m to force relogin\n"
     ]
    },
    {
     "data": {
      "text/plain": [
       "True"
      ]
     },
     "execution_count": 3,
     "metadata": {},
     "output_type": "execute_result"
    }
   ],
   "source": [
    "import wandb\n",
    "\n",
    "wandb.login()"
   ]
  },
  {
   "cell_type": "markdown",
   "id": "d963b6e2-d664-4553-86e1-b82f583ef862",
   "metadata": {
    "jp-MarkdownHeadingCollapsed": true,
    "tags": []
   },
   "source": [
    "# Load data"
   ]
  },
  {
   "cell_type": "code",
   "execution_count": 4,
   "id": "52428860-c17e-4828-86be-c1712fc8371f",
   "metadata": {},
   "outputs": [],
   "source": [
    "from datasets import load_dataset\n",
    "from tqdm import tqdm"
   ]
  },
  {
   "cell_type": "code",
   "execution_count": 5,
   "id": "28a05193-2060-4d0d-86b0-5ec3a5478934",
   "metadata": {},
   "outputs": [
    {
     "name": "stderr",
     "output_type": "stream",
     "text": [
      "Found cached dataset csv (/home/jovyan/.cache/huggingface/datasets/RicardoRei___csv/RicardoRei--wmt-da-human-evaluation-a4a96cd6106c3667/0.0.0/eea64c71ca8b46dd3f537ed218fc9bf495d5707789152eb2764f5c78fa66d59d)\n"
     ]
    }
   ],
   "source": [
    "dataset = load_dataset(\"RicardoRei/wmt-da-human-evaluation\", split=\"train\")"
   ]
  },
  {
   "cell_type": "code",
   "execution_count": 6,
   "id": "7decec72-12a6-4dc8-ac4c-bd2d81e4f9dd",
   "metadata": {},
   "outputs": [
    {
     "name": "stderr",
     "output_type": "stream",
     "text": [
      "Loading cached processed dataset at /home/jovyan/.cache/huggingface/datasets/RicardoRei___csv/RicardoRei--wmt-da-human-evaluation-a4a96cd6106c3667/0.0.0/eea64c71ca8b46dd3f537ed218fc9bf495d5707789152eb2764f5c78fa66d59d/cache-119fc26d246c3506.arrow\n"
     ]
    }
   ],
   "source": [
    "dataset_train = dataset.filter(\n",
    "    lambda example: (example[\"year\"] != 2022)\n",
    "    and (\n",
    "        (example[\"lp\"] == \"en-ru\")\n",
    "        or (example[\"lp\"] == \"zh-en\")\n",
    "        or (example[\"lp\"] == \"en-de\")\n",
    "    )\n",
    ")"
   ]
  },
  {
   "cell_type": "code",
   "execution_count": 7,
   "id": "936c2aae-c173-4ba6-be4a-0dcfd1be5d8c",
   "metadata": {},
   "outputs": [
    {
     "name": "stderr",
     "output_type": "stream",
     "text": [
      "100%|██████████| 361129/361129 [00:58<00:00, 6213.37it/s]\n"
     ]
    }
   ],
   "source": [
    "prompt_column = []\n",
    "\n",
    "prompt_template = \"\"\"\n",
    "Score the following translation from {source_lang} to {target_lang} with respect to the human reference on a continuous scale from 0 to 100, where score of zero means \"no meaning preserved\" and score of one hundred means \"perfect meaning and grammar\".\n",
    "{source_lang} source: \"{source_seg}\"\n",
    "{target_lang} human reference: {reference_seg}\n",
    "{target_lang} translation: \"{target_seg}\"\n",
    "Score:\n",
    "\"\"\"\n",
    "\n",
    "for i in tqdm(range(len(dataset_train))):\n",
    "    example = dataset_train[i]\n",
    "    sl, tl = example[\"lp\"].split(\"-\")\n",
    "    prompt_column.append(\n",
    "        prompt_template.format(\n",
    "            source_lang=sl,\n",
    "            target_lang=tl,\n",
    "            source_seg=example[\"src\"],\n",
    "            reference_seg=example[\"ref\"],\n",
    "            target_seg=example[\"mt\"],\n",
    "        )\n",
    "    )"
   ]
  },
  {
   "cell_type": "code",
   "execution_count": 8,
   "id": "b35dea71-4688-4cd3-b8ad-1e73722640c2",
   "metadata": {},
   "outputs": [
    {
     "name": "stderr",
     "output_type": "stream",
     "text": [
      "Loading cached processed dataset at /home/jovyan/.cache/huggingface/datasets/RicardoRei___csv/RicardoRei--wmt-da-human-evaluation-a4a96cd6106c3667/0.0.0/eea64c71ca8b46dd3f537ed218fc9bf495d5707789152eb2764f5c78fa66d59d/cache-b815f5b3ffcfbe9a.arrow\n"
     ]
    }
   ],
   "source": [
    "dataset_train = dataset_train.add_column(name=\"prompt\", column=prompt_column)"
   ]
  },
  {
   "cell_type": "code",
   "execution_count": 9,
   "id": "b6244e97-b50c-4ef2-9a1b-f56e4b86b903",
   "metadata": {},
   "outputs": [
    {
     "data": {
      "text/plain": [
       "{'lp': 'zh-en',\n",
       " 'src': '在三年半后重新任职总统之前，普京先生担任俄罗斯总理一职。',\n",
       " 'mt': 'Mr. Putin served as Russian prime minister before resuming his presidency Prime Minister of Russia after three and a half years in office.',\n",
       " 'ref': 'Mr Putin became prime minister, before returning to the presidency just three-and-a-half years later.',\n",
       " 'score': -0.048723632415222,\n",
       " 'raw': 74.5,\n",
       " 'annotators': 2,\n",
       " 'domain': 'news',\n",
       " 'year': 2017,\n",
       " 'prompt': '\\nScore the following translation from zh to en with respect to the human reference on a continuous scale from 0 to 100, where score of zero means \"no meaning preserved\" and score of one hundred means \"perfect meaning and grammar\".\\nzh source: \"在三年半后重新任职总统之前，普京先生担任俄罗斯总理一职。\"\\nen human reference: Mr Putin became prime minister, before returning to the presidency just three-and-a-half years later.\\nen translation: \"Mr. Putin served as Russian prime minister before resuming his presidency Prime Minister of Russia after three and a half years in office.\"\\nScore:\\n'}"
      ]
     },
     "execution_count": 9,
     "metadata": {},
     "output_type": "execute_result"
    }
   ],
   "source": [
    "dataset_train[41152]"
   ]
  },
  {
   "cell_type": "markdown",
   "id": "b69ab533-9025-454c-a7d7-b60823c3c9de",
   "metadata": {
    "tags": []
   },
   "source": [
    "# T5 tokenizer initialize"
   ]
  },
  {
   "cell_type": "code",
   "execution_count": 4,
   "id": "ada225c6-434d-40ed-abcd-8556f844e61b",
   "metadata": {},
   "outputs": [],
   "source": [
    "from transformers import T5Config, T5EncoderModel, T5Tokenizer"
   ]
  },
  {
   "cell_type": "code",
   "execution_count": 5,
   "id": "d32a185e-31c3-4413-aac9-d34de30fb5b9",
   "metadata": {},
   "outputs": [
    {
     "name": "stderr",
     "output_type": "stream",
     "text": [
      "You are using the legacy behaviour of the <class 'transformers.models.t5.tokenization_t5.T5Tokenizer'>. This means that tokens that come after special tokens will not be properly handled. We recommend you to read the related pull request available at https://github.com/huggingface/transformers/pull/24565\n"
     ]
    }
   ],
   "source": [
    "tokenizer = T5Tokenizer.from_pretrained(t5_model)"
   ]
  },
  {
   "cell_type": "markdown",
   "id": "3915b451-8708-443f-95b9-e81ab73451b4",
   "metadata": {
    "tags": []
   },
   "source": [
    "# DataLoader"
   ]
  },
  {
   "cell_type": "markdown",
   "id": "3e69c57a-423e-43cf-82b2-ba83541264ba",
   "metadata": {
    "jp-MarkdownHeadingCollapsed": true,
    "tags": []
   },
   "source": [
    "## Tokenize"
   ]
  },
  {
   "cell_type": "code",
   "execution_count": 12,
   "id": "fe70aa73-b4ee-4617-ba0f-f8ee67eb8b08",
   "metadata": {},
   "outputs": [
    {
     "data": {
      "application/vnd.jupyter.widget-view+json": {
       "model_id": "",
       "version_major": 2,
       "version_minor": 0
      },
      "text/plain": [
       "Map:   0%|          | 0/361129 [00:00<?, ? examples/s]"
      ]
     },
     "metadata": {},
     "output_type": "display_data"
    }
   ],
   "source": [
    "dataset_tokenized = dataset_train.map(\n",
    "    lambda example: tokenizer(\n",
    "        example[\"prompt\"],\n",
    "        padding=True,\n",
    "        truncation=True,\n",
    "        max_length=512,\n",
    "        return_tensors=\"pt\",\n",
    "    ),\n",
    "    batched=True,\n",
    ")"
   ]
  },
  {
   "cell_type": "code",
   "execution_count": 13,
   "id": "a55af3a8-c304-4260-b677-4d7d846419ca",
   "metadata": {},
   "outputs": [
    {
     "data": {
      "application/vnd.jupyter.widget-view+json": {
       "model_id": "",
       "version_major": 2,
       "version_minor": 0
      },
      "text/plain": [
       "Saving the dataset (0/3 shards):   0%|          | 0/361129 [00:00<?, ? examples/s]"
      ]
     },
     "metadata": {},
     "output_type": "display_data"
    }
   ],
   "source": [
    "dataset_tokenized.save_to_disk(\"wmt-da_tokenized\")"
   ]
  },
  {
   "cell_type": "markdown",
   "id": "2f017e0d-d09a-4d40-8691-4da5da170ce9",
   "metadata": {
    "tags": []
   },
   "source": [
    "## Convert to DataLoader"
   ]
  },
  {
   "cell_type": "code",
   "execution_count": 6,
   "id": "c4311efd-fad3-4b74-b43a-d8aab8e64a21",
   "metadata": {},
   "outputs": [],
   "source": [
    "from datasets import Dataset as ds\n",
    "from datasets import load_from_disk\n",
    "from torch.utils.data import DataLoader, Dataset\n",
    "from transformers import DataCollatorWithPadding"
   ]
  },
  {
   "cell_type": "code",
   "execution_count": 7,
   "id": "d1eb6676-04a0-4c74-a902-6eb5c9819436",
   "metadata": {},
   "outputs": [],
   "source": [
    "dataset_tokenized = load_from_disk(\"wmt-da_tokenized\")"
   ]
  },
  {
   "cell_type": "code",
   "execution_count": 8,
   "id": "3b81416e-3658-472c-b3c2-66b5d4663ea9",
   "metadata": {},
   "outputs": [],
   "source": [
    "dataset_tokenized = ds.from_dict(dataset_tokenized[:25000])"
   ]
  },
  {
   "cell_type": "code",
   "execution_count": 9,
   "id": "0ff2d51a-85c6-4d93-b2f9-f751171b43ff",
   "metadata": {},
   "outputs": [],
   "source": [
    "dataset_tokenized = (\n",
    "    dataset_tokenized.with_format(\"torch\")\n",
    "    .remove_columns(\n",
    "        [\"lp\", \"src\", \"mt\", \"ref\", \"score\", \"annotators\", \"domain\", \"year\", \"prompt\"]\n",
    "    )\n",
    "    .rename_column(\"raw\", \"label\")\n",
    ")"
   ]
  },
  {
   "cell_type": "code",
   "execution_count": 10,
   "id": "ff79357f-56ab-4973-bd72-4da602264907",
   "metadata": {},
   "outputs": [
    {
     "data": {
      "text/plain": [
       "DatasetDict({\n",
       "    train: Dataset({\n",
       "        features: ['label', 'input_ids', 'attention_mask'],\n",
       "        num_rows: 20000\n",
       "    })\n",
       "    test: Dataset({\n",
       "        features: ['label', 'input_ids', 'attention_mask'],\n",
       "        num_rows: 5000\n",
       "    })\n",
       "})"
      ]
     },
     "execution_count": 10,
     "metadata": {},
     "output_type": "execute_result"
    }
   ],
   "source": [
    "dataset_traineval = dataset_tokenized.train_test_split(test_size=0.2, seed=random_seed)\n",
    "\n",
    "dataset_traineval"
   ]
  },
  {
   "cell_type": "code",
   "execution_count": 11,
   "id": "196bc470-2dfa-4397-adb8-6081d8634fd3",
   "metadata": {},
   "outputs": [],
   "source": [
    "data_collactor = DataCollatorWithPadding(tokenizer=tokenizer)"
   ]
  },
  {
   "cell_type": "code",
   "execution_count": 12,
   "id": "8efeb0ce-f37e-4a8c-ba78-08b36aaab853",
   "metadata": {},
   "outputs": [],
   "source": [
    "dataloader_train = DataLoader(\n",
    "    dataset_traineval[\"train\"], batch_size=8, shuffle=True, collate_fn=data_collactor\n",
    ")\n",
    "\n",
    "dataloader_eval = DataLoader(\n",
    "    dataset_traineval[\"test\"], batch_size=8, collate_fn=data_collactor\n",
    ")"
   ]
  },
  {
   "cell_type": "markdown",
   "id": "61ce3f1b-0cb6-4f80-b143-597b59951b1e",
   "metadata": {
    "tags": []
   },
   "source": [
    "# Model"
   ]
  },
  {
   "cell_type": "markdown",
   "id": "d950bd87-a4f2-4499-a8c6-a05c2e2cd8ba",
   "metadata": {},
   "source": [
    "To check:\n",
    "\n",
    "1. Different activations on last layer(e.g. Sigmoid)\n",
    "2. Different activations on hidden layers\n",
    "3. Different losses(e.g. RMSE)\n",
    "4. Different hidden layers in MLP\n",
    "5. More/less dropouts\n",
    "6. Different batch size\n",
    "\n",
    "To do:\n",
    "1. Move .to(device) from train loop to tokenize\n",
    "2. Use LoRA adapter\n",
    "3. Use int8/int4\n",
    "4. Replace quality metric with Kendal-tau and Spearman"
   ]
  },
  {
   "cell_type": "markdown",
   "id": "7bdbcc0d-f46b-43f3-ac1a-cfb0fa0722b9",
   "metadata": {},
   "source": [
    "Plan:\n",
    "\n",
    "Add WandB and check train/loss function on big train dataset and base architecture(t5+dropout+mlp without dropouts, mse loss, no act on last layer) <br />\n",
    "Do other experiments whether it converges or it doesn't"
   ]
  },
  {
   "cell_type": "code",
   "execution_count": 13,
   "id": "f6d58d1c-58d0-4f47-b81e-419cc7a80e20",
   "metadata": {},
   "outputs": [],
   "source": [
    "import torch.nn as nn\n",
    "from transformers.modeling_outputs import BaseModelOutput\n",
    "\n",
    "\n",
    "class T5Regressor(nn.Module):\n",
    "    def __init__(self, checkpoint, sizes_mlp, act=nn.ReLU):\n",
    "        super(T5Regressor, self).__init__()\n",
    "\n",
    "        self.llm = T5EncoderModel.from_pretrained(\n",
    "            checkpoint, output_attentions=True, output_hidden_states=True\n",
    "        )\n",
    "\n",
    "        self.llm_output_shape = sizes_mlp[0]\n",
    "\n",
    "        self.dropout = nn.Dropout(0.1)\n",
    "\n",
    "        self.layers = []\n",
    "        for i in range(len(sizes_mlp) - 1):\n",
    "            self.layers.append(nn.Linear(sizes_mlp[i], sizes_mlp[i + 1]))\n",
    "            if i < len(sizes_mlp) - 2:\n",
    "                self.layers.append(act())\n",
    "\n",
    "        self.mlp = nn.Sequential(*self.layers)\n",
    "\n",
    "        self.loss_fc = nn.MSELoss()\n",
    "\n",
    "    def forward(self, input_ids=None, attention_mask=None, labels=None):\n",
    "        outputs = self.llm(input_ids=input_ids, attention_mask=attention_mask)\n",
    "        outputs_sequence = self.dropout(outputs.last_hidden_state)\n",
    "\n",
    "        logits = self.mlp(outputs_sequence[:, 0, :].view(-1, self.llm_output_shape))\n",
    "\n",
    "        loss = None\n",
    "        if labels is not None:\n",
    "            loss = self.loss_fc(logits.view(-1, 1), labels.view(-1).unsqueeze(1))\n",
    "\n",
    "        return (\n",
    "            BaseModelOutput(\n",
    "                last_hidden_state=outputs.last_hidden_state,\n",
    "                hidden_states=outputs.hidden_states,\n",
    "                attentions=outputs.attentions,\n",
    "            ),\n",
    "            logits,\n",
    "            loss,\n",
    "        )"
   ]
  },
  {
   "cell_type": "markdown",
   "id": "b8a1147f-6b2f-4410-b956-7b4ca091724c",
   "metadata": {},
   "source": [
    "# Train"
   ]
  },
  {
   "cell_type": "code",
   "execution_count": 14,
   "id": "e009fda6-ee20-4a71-8ea9-a6658c8c62d3",
   "metadata": {},
   "outputs": [
    {
     "data": {
      "text/html": [
       "Tracking run with wandb version 0.15.5"
      ],
      "text/plain": [
       "<IPython.core.display.HTML object>"
      ]
     },
     "metadata": {},
     "output_type": "display_data"
    },
    {
     "data": {
      "text/html": [
       "Run data is saved locally in <code>/home/jovyan/T5Regressor/wandb/run-20230722_133622-qtsqc6nz</code>"
      ],
      "text/plain": [
       "<IPython.core.display.HTML object>"
      ]
     },
     "metadata": {},
     "output_type": "display_data"
    },
    {
     "data": {
      "text/html": [
       "Syncing run <strong><a href='https://wandb.ai/hse_image_captioning_spring_project/airi23-efficient-llm-metrics/runs/qtsqc6nz' target=\"_blank\">soft-forest-7</a></strong> to <a href='https://wandb.ai/hse_image_captioning_spring_project/airi23-efficient-llm-metrics' target=\"_blank\">Weights & Biases</a> (<a href='https://wandb.me/run' target=\"_blank\">docs</a>)<br/>"
      ],
      "text/plain": [
       "<IPython.core.display.HTML object>"
      ]
     },
     "metadata": {},
     "output_type": "display_data"
    },
    {
     "data": {
      "text/html": [
       " View project at <a href='https://wandb.ai/hse_image_captioning_spring_project/airi23-efficient-llm-metrics' target=\"_blank\">https://wandb.ai/hse_image_captioning_spring_project/airi23-efficient-llm-metrics</a>"
      ],
      "text/plain": [
       "<IPython.core.display.HTML object>"
      ]
     },
     "metadata": {},
     "output_type": "display_data"
    },
    {
     "data": {
      "text/html": [
       " View run at <a href='https://wandb.ai/hse_image_captioning_spring_project/airi23-efficient-llm-metrics/runs/qtsqc6nz' target=\"_blank\">https://wandb.ai/hse_image_captioning_spring_project/airi23-efficient-llm-metrics/runs/qtsqc6nz</a>"
      ],
      "text/plain": [
       "<IPython.core.display.HTML object>"
      ]
     },
     "metadata": {},
     "output_type": "display_data"
    },
    {
     "data": {
      "text/html": [
       "<button onClick=\"this.nextSibling.style.display='block';this.style.display='none';\">Display W&B run</button><iframe src='https://wandb.ai/hse_image_captioning_spring_project/airi23-efficient-llm-metrics/runs/qtsqc6nz?jupyter=true' style='border:none;width:100%;height:420px;display:none;'></iframe>"
      ],
      "text/plain": [
       "<wandb.sdk.wandb_run.Run at 0x7f7c51cd4af0>"
      ]
     },
     "execution_count": 14,
     "metadata": {},
     "output_type": "execute_result"
    }
   ],
   "source": [
    "import wandb\n",
    "\n",
    "wandb.init(project=\"airi23-efficient-llm-metrics\")"
   ]
  },
  {
   "cell_type": "code",
   "execution_count": 15,
   "id": "91d43a60-e5bd-4f42-9aef-7a59f8fba2fd",
   "metadata": {},
   "outputs": [],
   "source": [
    "from statistics import mean\n",
    "\n",
    "from torch.optim import AdamW\n",
    "from tqdm import tqdm\n",
    "from transformers import get_scheduler"
   ]
  },
  {
   "cell_type": "code",
   "execution_count": 16,
   "id": "be482055-dfc6-4dc8-b2e3-b7b31bd85a23",
   "metadata": {},
   "outputs": [],
   "source": [
    "model = T5Regressor(checkpoint=t5_model, sizes_mlp=[768, 192, 48, 1])\n",
    "\n",
    "model.to(device)\n",
    "None"
   ]
  },
  {
   "cell_type": "code",
   "execution_count": 17,
   "id": "405b1f16-f2dc-4b24-bb19-a504d029ead2",
   "metadata": {},
   "outputs": [],
   "source": [
    "optimizer = AdamW(model.parameters(), lr=3e-4)"
   ]
  },
  {
   "cell_type": "code",
   "execution_count": 18,
   "id": "0a67c98a-4416-4cd5-a02f-bae96af0b839",
   "metadata": {},
   "outputs": [
    {
     "name": "stdout",
     "output_type": "stream",
     "text": [
      "7500\n"
     ]
    }
   ],
   "source": [
    "num_epochs = 3\n",
    "num_training_steps = num_epochs * len(dataloader_train)\n",
    "lr_scheduler = get_scheduler(\n",
    "    \"linear\",\n",
    "    optimizer=optimizer,\n",
    "    num_warmup_steps=0,\n",
    "    num_training_steps=num_training_steps,\n",
    ")\n",
    "print(num_training_steps)"
   ]
  },
  {
   "cell_type": "code",
   "execution_count": 19,
   "id": "11440eef-fd08-423a-bf1b-873899df621c",
   "metadata": {},
   "outputs": [],
   "source": [
    "import torch.nn as nn\n",
    "\n",
    "metric = nn.MSELoss()\n",
    "# TODO: replace with Kendall-tau/Spearman"
   ]
  },
  {
   "cell_type": "code",
   "execution_count": null,
   "id": "fa5e4f89-8a58-4282-9f21-92e7841ccfdd",
   "metadata": {},
   "outputs": [
    {
     "name": "stderr",
     "output_type": "stream",
     "text": [
      "  0%|          | 0/7500 [00:00<?, ?it/s]\n",
      "  0%|          | 0/1875 [00:00<?, ?it/s]\u001b[A"
     ]
    },
    {
     "name": "stdout",
     "output_type": "stream",
     "text": [
      "Train size: 2500\n",
      "Eval size: 625\n",
      "TRAIN\n"
     ]
    },
    {
     "name": "stderr",
     "output_type": "stream",
     "text": [
      " 33%|███▎      | 2500/7500 [11:08<22:13,  3.75it/s, loss=4.59e+3]\n",
      " 33%|███▎      | 2500/7500 [11:09<22:13,  3.75it/s, loss=6.31e+3]"
     ]
    },
    {
     "name": "stdout",
     "output_type": "stream",
     "text": [
      "EVAL\n"
     ]
    },
    {
     "name": "stderr",
     "output_type": "stream",
     "text": [
      " 33%|███▎      | 2500/7500 [11:09<22:13,  3.75it/s, loss=4.78e+3]\n",
      " 33%|███▎      | 2500/7500 [11:09<22:13,  3.75it/s, loss=4.76e+3]\n",
      " 33%|███▎      | 2500/7500 [11:09<22:13,  3.75it/s, loss=4.92e+3]\n",
      " 33%|███▎      | 2500/7500 [11:09<22:13,  3.75it/s, loss=3.63e+3]\n",
      " 33%|███▎      | 2500/7500 [11:09<22:13,  3.75it/s, loss=5.27e+3]\n",
      " 33%|███▎      | 2500/7500 [11:10<22:13,  3.75it/s, loss=3.73e+3]\n",
      " 33%|███▎      | 2500/7500 [11:10<22:13,  3.75it/s, loss=4426.25]\n",
      " 33%|███▎      | 2500/7500 [11:10<22:13,  3.75it/s, loss=3.55e+3]\n",
      " 33%|███▎      | 2500/7500 [11:10<22:13,  3.75it/s, loss=4.46e+3]\n",
      " 33%|███▎      | 2500/7500 [11:10<22:13,  3.75it/s, loss=6.71e+3]\n",
      " 33%|███▎      | 2500/7500 [11:11<22:13,  3.75it/s, loss=4.18e+3]\n",
      " 33%|███▎      | 2500/7500 [11:11<22:13,  3.75it/s, loss=4.45e+3]\n",
      " 33%|███▎      | 2500/7500 [11:11<22:13,  3.75it/s, loss=4963.0] \n",
      " 33%|███▎      | 2500/7500 [11:11<22:13,  3.75it/s, loss=4.14e+3]\n",
      " 33%|███▎      | 2500/7500 [11:11<22:13,  3.75it/s, loss=6.84e+3]\n",
      " 33%|███▎      | 2500/7500 [11:12<22:13,  3.75it/s, loss=3612.0] \n",
      " 33%|███▎      | 2500/7500 [11:12<22:13,  3.75it/s, loss=4.24e+3]\n",
      " 33%|███▎      | 2500/7500 [11:12<22:13,  3.75it/s, loss=2.41e+3]\n",
      " 33%|███▎      | 2500/7500 [11:12<22:13,  3.75it/s, loss=4.67e+3]\n",
      " 33%|███▎      | 2500/7500 [11:12<22:13,  3.75it/s, loss=4.45e+3]\n",
      " 33%|███▎      | 2500/7500 [11:13<22:13,  3.75it/s, loss=4.37e+3]\n",
      " 33%|███▎      | 2500/7500 [11:13<22:13,  3.75it/s, loss=3.82e+3]\n",
      " 33%|███▎      | 2500/7500 [11:13<22:13,  3.75it/s, loss=4.88e+3]\n",
      " 33%|███▎      | 2500/7500 [11:13<22:13,  3.75it/s, loss=4.15e+3]\n",
      " 33%|███▎      | 2500/7500 [11:13<22:13,  3.75it/s, loss=7.47e+3]\n",
      " 33%|███▎      | 2500/7500 [11:14<22:13,  3.75it/s, loss=4.17e+3]\n",
      " 33%|███▎      | 2500/7500 [11:14<22:13,  3.75it/s, loss=6.8e+3] \n",
      " 33%|███▎      | 2500/7500 [11:14<22:13,  3.75it/s, loss=4.62e+3]\n",
      " 33%|███▎      | 2500/7500 [11:14<22:13,  3.75it/s, loss=4.75e+3]\n",
      " 33%|███▎      | 2500/7500 [11:14<22:13,  3.75it/s, loss=4.89e+3]\n",
      " 33%|███▎      | 2500/7500 [11:14<22:13,  3.75it/s, loss=3.59e+3]\n",
      " 33%|███▎      | 2500/7500 [11:15<22:13,  3.75it/s, loss=4.74e+3]\n",
      " 33%|███▎      | 2500/7500 [11:15<22:13,  3.75it/s, loss=5.56e+3]\n",
      " 33%|███▎      | 2500/7500 [11:15<22:13,  3.75it/s, loss=6.24e+3]\n",
      " 33%|███▎      | 2500/7500 [11:15<22:13,  3.75it/s, loss=3.92e+3]\n",
      " 33%|███▎      | 2500/7500 [11:15<22:13,  3.75it/s, loss=7.69e+3]\n",
      " 33%|███▎      | 2500/7500 [11:16<22:13,  3.75it/s, loss=4.56e+3]\n",
      " 33%|███▎      | 2500/7500 [11:16<22:13,  3.75it/s, loss=6.13e+3]\n",
      " 33%|███▎      | 2500/7500 [11:16<22:13,  3.75it/s, loss=6.59e+3]\n",
      " 33%|███▎      | 2500/7500 [11:16<22:13,  3.75it/s, loss=6.07e+3]\n",
      " 33%|███▎      | 2500/7500 [11:16<22:13,  3.75it/s, loss=4.27e+3]\n",
      " 33%|███▎      | 2500/7500 [11:17<22:13,  3.75it/s, loss=6.58e+3]\n",
      " 33%|███▎      | 2500/7500 [11:17<22:13,  3.75it/s, loss=3.04e+3]\n",
      " 33%|███▎      | 2500/7500 [11:17<22:13,  3.75it/s, loss=4.41e+3]\n",
      " 33%|███▎      | 2500/7500 [11:17<22:13,  3.75it/s, loss=5.65e+3]\n",
      " 33%|███▎      | 2500/7500 [11:17<22:13,  3.75it/s, loss=5.99e+3]\n",
      " 33%|███▎      | 2500/7500 [11:18<22:13,  3.75it/s, loss=6.31e+3]\n",
      " 33%|███▎      | 2500/7500 [11:18<22:13,  3.75it/s, loss=4.82e+3]\n",
      " 33%|███▎      | 2500/7500 [11:18<22:13,  3.75it/s, loss=3.88e+3]\n",
      " 33%|███▎      | 2500/7500 [11:18<22:13,  3.75it/s, loss=5.19e+3]\n",
      " 33%|███▎      | 2500/7500 [11:18<22:13,  3.75it/s, loss=2.22e+3]\n",
      " 33%|███▎      | 2500/7500 [11:19<22:13,  3.75it/s, loss=4.6e+3] \n",
      " 33%|███▎      | 2500/7500 [11:19<22:13,  3.75it/s, loss=5.68e+3]\n",
      " 33%|███▎      | 2500/7500 [11:19<22:13,  3.75it/s, loss=4.17e+3]\n",
      " 33%|███▎      | 2500/7500 [11:19<22:13,  3.75it/s, loss=4.4e+3] \n",
      " 33%|███▎      | 2500/7500 [11:19<22:13,  3.75it/s, loss=2.89e+3]\n",
      " 33%|███▎      | 2500/7500 [11:20<22:13,  3.75it/s, loss=5.29e+3]\n",
      " 33%|███▎      | 2500/7500 [11:20<22:13,  3.75it/s, loss=3.28e+3]\n",
      " 33%|███▎      | 2500/7500 [11:20<22:13,  3.75it/s, loss=4.29e+3]\n",
      " 33%|███▎      | 2500/7500 [11:20<22:13,  3.75it/s, loss=3.5e+3] \n",
      " 33%|███▎      | 2500/7500 [11:20<22:13,  3.75it/s, loss=4.81e+3]\n",
      " 33%|███▎      | 2500/7500 [11:20<22:13,  3.75it/s, loss=2.47e+3]\n",
      " 33%|███▎      | 2500/7500 [11:21<22:13,  3.75it/s, loss=3187.5] \n",
      " 33%|███▎      | 2500/7500 [11:21<22:13,  3.75it/s, loss=5.69e+3]\n",
      " 33%|███▎      | 2500/7500 [11:21<22:13,  3.75it/s, loss=6.14e+3]\n",
      " 33%|███▎      | 2500/7500 [11:21<22:13,  3.75it/s, loss=3.56e+3]\n",
      " 33%|███▎      | 2500/7500 [11:21<22:13,  3.75it/s, loss=2.19e+3]\n",
      " 33%|███▎      | 2500/7500 [11:22<22:13,  3.75it/s, loss=6.4e+3] \n",
      " 33%|███▎      | 2500/7500 [11:22<22:13,  3.75it/s, loss=4.45e+3]\n",
      " 33%|███▎      | 2500/7500 [11:22<22:13,  3.75it/s, loss=4.44e+3]\n",
      " 33%|███▎      | 2500/7500 [11:22<22:13,  3.75it/s, loss=4.22e+3]\n",
      " 33%|███▎      | 2500/7500 [11:22<22:13,  3.75it/s, loss=4653.0] \n",
      " 33%|███▎      | 2500/7500 [11:23<22:13,  3.75it/s, loss=5.78e+3]\n",
      " 33%|███▎      | 2500/7500 [11:23<22:13,  3.75it/s, loss=3.35e+3]\n",
      " 33%|███▎      | 2500/7500 [11:23<22:13,  3.75it/s, loss=3.9e+3] \n",
      " 33%|███▎      | 2500/7500 [11:23<22:13,  3.75it/s, loss=4.7e+3] \n",
      " 33%|███▎      | 2500/7500 [11:23<22:13,  3.75it/s, loss=2.22e+3]\n",
      " 33%|███▎      | 2500/7500 [11:24<22:13,  3.75it/s, loss=4.31e+3]\n",
      " 33%|███▎      | 2500/7500 [11:24<22:13,  3.75it/s, loss=3.45e+3]\n",
      " 33%|███▎      | 2500/7500 [11:24<22:13,  3.75it/s, loss=7.58e+3]\n",
      " 33%|███▎      | 2500/7500 [11:24<22:13,  3.75it/s, loss=3.13e+3]\n",
      " 33%|███▎      | 2500/7500 [11:24<22:13,  3.75it/s, loss=3357.75]\n",
      " 33%|███▎      | 2500/7500 [11:25<22:13,  3.75it/s, loss=5.57e+3]\n",
      " 33%|███▎      | 2500/7500 [11:25<22:13,  3.75it/s, loss=4.1e+3] \n",
      " 33%|███▎      | 2500/7500 [11:25<22:13,  3.75it/s, loss=5.34e+3]\n",
      " 33%|███▎      | 2500/7500 [11:25<22:13,  3.75it/s, loss=2.8e+3] \n",
      " 33%|███▎      | 2500/7500 [11:25<22:13,  3.75it/s, loss=5.97e+3]\n",
      " 33%|███▎      | 2500/7500 [11:26<22:13,  3.75it/s, loss=5.1e+3] \n",
      " 33%|███▎      | 2500/7500 [11:26<22:13,  3.75it/s, loss=4.68e+3]\n",
      " 33%|███▎      | 2500/7500 [11:26<22:13,  3.75it/s, loss=6e+3]   \n",
      " 33%|███▎      | 2500/7500 [11:26<22:13,  3.75it/s, loss=4.49e+3]\n",
      " 33%|███▎      | 2500/7500 [11:26<22:13,  3.75it/s, loss=4.71e+3]\n",
      " 33%|███▎      | 2500/7500 [11:26<22:13,  3.75it/s, loss=4.92e+3]\n",
      " 33%|███▎      | 2500/7500 [11:27<22:13,  3.75it/s, loss=4.92e+3]\n",
      " 33%|███▎      | 2500/7500 [11:27<22:13,  3.75it/s, loss=4.21e+3]\n",
      " 33%|███▎      | 2500/7500 [11:27<22:13,  3.75it/s, loss=3.76e+3]\n",
      " 33%|███▎      | 2500/7500 [11:27<22:13,  3.75it/s, loss=6.31e+3]\n",
      " 33%|███▎      | 2500/7500 [11:27<22:13,  3.75it/s, loss=3.23e+3]\n",
      " 33%|███▎      | 2500/7500 [11:28<22:13,  3.75it/s, loss=4.27e+3]\n",
      " 33%|███▎      | 2500/7500 [11:28<22:13,  3.75it/s, loss=4.15e+3]\n",
      " 33%|███▎      | 2500/7500 [11:28<22:13,  3.75it/s, loss=4.26e+3]\n",
      " 33%|███▎      | 2500/7500 [11:28<22:13,  3.75it/s, loss=3.96e+3]\n",
      " 33%|███▎      | 2500/7500 [11:28<22:13,  3.75it/s, loss=5.4e+3] \n",
      " 33%|███▎      | 2500/7500 [11:29<22:13,  3.75it/s, loss=6.27e+3]\n",
      " 33%|███▎      | 2500/7500 [11:29<22:13,  3.75it/s, loss=4.57e+3]\n",
      " 33%|███▎      | 2500/7500 [11:29<22:13,  3.75it/s, loss=4.71e+3]\n",
      " 33%|███▎      | 2500/7500 [11:29<22:13,  3.75it/s, loss=5.21e+3]\n",
      " 33%|███▎      | 2500/7500 [11:29<22:13,  3.75it/s, loss=5.02e+3]\n",
      " 33%|███▎      | 2500/7500 [11:30<22:13,  3.75it/s, loss=6.05e+3]\n",
      " 33%|███▎      | 2500/7500 [11:30<22:13,  3.75it/s, loss=3.6e+3] \n",
      " 33%|███▎      | 2500/7500 [11:30<22:13,  3.75it/s, loss=5.87e+3]\n",
      " 33%|███▎      | 2500/7500 [11:30<22:13,  3.75it/s, loss=5.54e+3]\n",
      " 33%|███▎      | 2500/7500 [11:30<22:13,  3.75it/s, loss=4.08e+3]\n",
      " 33%|███▎      | 2500/7500 [11:31<22:13,  3.75it/s, loss=6204.0] \n",
      " 33%|███▎      | 2500/7500 [11:31<22:13,  3.75it/s, loss=4.81e+3]\n",
      " 33%|███▎      | 2500/7500 [11:31<22:13,  3.75it/s, loss=4.06e+3]\n",
      " 33%|███▎      | 2500/7500 [11:31<22:13,  3.75it/s, loss=6.04e+3]\n",
      " 33%|███▎      | 2500/7500 [11:31<22:13,  3.75it/s, loss=5425.0] \n",
      " 33%|███▎      | 2500/7500 [11:32<22:13,  3.75it/s, loss=5.56e+3]\n",
      " 33%|███▎      | 2500/7500 [11:32<22:13,  3.75it/s, loss=5.37e+3]\n",
      " 33%|███▎      | 2500/7500 [11:32<22:13,  3.75it/s, loss=6.73e+3]\n",
      " 33%|███▎      | 2500/7500 [11:32<22:13,  3.75it/s, loss=5e+3]   \n",
      " 33%|███▎      | 2500/7500 [11:32<22:13,  3.75it/s, loss=5.97e+3]\n",
      " 33%|███▎      | 2500/7500 [11:33<22:13,  3.75it/s, loss=4094.25]\n",
      " 33%|███▎      | 2500/7500 [11:33<22:13,  3.75it/s, loss=4.2e+3] \n",
      " 33%|███▎      | 2500/7500 [11:33<22:13,  3.75it/s, loss=5121.0] \n",
      " 33%|███▎      | 2500/7500 [11:33<22:13,  3.75it/s, loss=6.3e+3] \n",
      " 33%|███▎      | 2500/7500 [11:33<22:13,  3.75it/s, loss=3.42e+3]\n",
      " 33%|███▎      | 2500/7500 [11:33<22:13,  3.75it/s, loss=4.43e+3]\n",
      " 33%|███▎      | 2500/7500 [11:34<22:13,  3.75it/s, loss=3.88e+3]\n",
      " 33%|███▎      | 2500/7500 [11:34<22:13,  3.75it/s, loss=6.38e+3]\n",
      " 33%|███▎      | 2500/7500 [11:34<22:13,  3.75it/s, loss=5.42e+3]\n",
      " 33%|███▎      | 2500/7500 [11:34<22:13,  3.75it/s, loss=4.47e+3]\n",
      " 33%|███▎      | 2500/7500 [11:34<22:13,  3.75it/s, loss=2.4e+3] \n",
      " 33%|███▎      | 2500/7500 [11:35<22:13,  3.75it/s, loss=5.51e+3]\n",
      " 33%|███▎      | 2500/7500 [11:35<22:13,  3.75it/s, loss=4.24e+3]\n",
      " 33%|███▎      | 2500/7500 [11:35<22:13,  3.75it/s, loss=4.6e+3] \n",
      " 33%|███▎      | 2500/7500 [11:35<22:13,  3.75it/s, loss=4.07e+3]\n",
      " 33%|███▎      | 2500/7500 [11:35<22:13,  3.75it/s, loss=3524.0] \n",
      " 33%|███▎      | 2500/7500 [11:36<22:13,  3.75it/s, loss=4.61e+3]\n",
      " 33%|███▎      | 2500/7500 [11:36<22:13,  3.75it/s, loss=4.17e+3]\n",
      " 33%|███▎      | 2500/7500 [11:36<22:13,  3.75it/s, loss=2.76e+3]\n",
      " 33%|███▎      | 2500/7500 [11:36<22:13,  3.75it/s, loss=7e+3]   \n",
      " 33%|███▎      | 2500/7500 [11:36<22:13,  3.75it/s, loss=6.03e+3]\n",
      " 33%|███▎      | 2500/7500 [11:37<22:13,  3.75it/s, loss=4.87e+3]\n",
      " 33%|███▎      | 2500/7500 [11:37<22:13,  3.75it/s, loss=5.15e+3]\n",
      " 33%|███▎      | 2500/7500 [11:37<22:13,  3.75it/s, loss=4.32e+3]\n",
      " 33%|███▎      | 2500/7500 [11:37<22:13,  3.75it/s, loss=6.3e+3] \n",
      " 33%|███▎      | 2500/7500 [11:37<22:13,  3.75it/s, loss=4.53e+3]\n",
      " 33%|███▎      | 2500/7500 [11:38<22:13,  3.75it/s, loss=4.67e+3]\n",
      " 33%|███▎      | 2500/7500 [11:38<22:13,  3.75it/s, loss=5.2e+3] \n",
      " 33%|███▎      | 2500/7500 [11:38<22:13,  3.75it/s, loss=6.36e+3]\n",
      " 33%|███▎      | 2500/7500 [11:38<22:13,  3.75it/s, loss=3.79e+3]\n",
      " 33%|███▎      | 2500/7500 [11:38<22:13,  3.75it/s, loss=2.88e+3]\n",
      " 33%|███▎      | 2500/7500 [11:39<22:13,  3.75it/s, loss=3.67e+3]\n",
      " 33%|███▎      | 2500/7500 [11:39<22:13,  3.75it/s, loss=3.51e+3]\n",
      " 33%|███▎      | 2500/7500 [11:39<22:13,  3.75it/s, loss=5.58e+3]\n",
      " 33%|███▎      | 2500/7500 [11:39<22:13,  3.75it/s, loss=4.22e+3]\n",
      " 33%|███▎      | 2500/7500 [11:39<22:13,  3.75it/s, loss=5.2e+3] \n",
      " 33%|███▎      | 2500/7500 [11:39<22:13,  3.75it/s, loss=5011.0] \n",
      " 33%|███▎      | 2500/7500 [11:40<22:13,  3.75it/s, loss=5389.75]\n",
      " 33%|███▎      | 2500/7500 [11:40<22:13,  3.75it/s, loss=4.69e+3]\n",
      " 33%|███▎      | 2500/7500 [11:40<22:13,  3.75it/s, loss=4364.0] \n",
      " 33%|███▎      | 2500/7500 [11:40<22:13,  3.75it/s, loss=5.81e+3]\n",
      " 33%|███▎      | 2500/7500 [11:40<22:13,  3.75it/s, loss=5.07e+3]\n",
      " 33%|███▎      | 2500/7500 [11:41<22:13,  3.75it/s, loss=3.2e+3] \n",
      " 33%|███▎      | 2500/7500 [11:41<22:13,  3.75it/s, loss=6.85e+3]\n",
      " 33%|███▎      | 2500/7500 [11:41<22:13,  3.75it/s, loss=3.77e+3]\n",
      " 33%|███▎      | 2500/7500 [11:41<22:13,  3.75it/s, loss=4.9e+3] \n",
      " 33%|███▎      | 2500/7500 [11:41<22:13,  3.75it/s, loss=5.44e+3]\n",
      " 33%|███▎      | 2500/7500 [11:42<22:13,  3.75it/s, loss=6.61e+3]\n",
      " 33%|███▎      | 2500/7500 [11:42<22:13,  3.75it/s, loss=2.86e+3]\n",
      " 33%|███▎      | 2500/7500 [11:42<22:13,  3.75it/s, loss=4.2e+3] \n",
      " 33%|███▎      | 2500/7500 [11:42<22:13,  3.75it/s, loss=4.34e+3]\n",
      " 33%|███▎      | 2500/7500 [11:42<22:13,  3.75it/s, loss=7.08e+3]\n",
      " 33%|███▎      | 2500/7500 [11:43<22:13,  3.75it/s, loss=5.65e+3]\n",
      " 33%|███▎      | 2500/7500 [11:43<22:13,  3.75it/s, loss=5.72e+3]\n",
      " 33%|███▎      | 2500/7500 [11:43<22:13,  3.75it/s, loss=4709.5] \n",
      " 33%|███▎      | 2500/7500 [11:43<22:13,  3.75it/s, loss=5.33e+3]\n",
      " 33%|███▎      | 2500/7500 [11:43<22:13,  3.75it/s, loss=4.12e+3]\n",
      " 33%|███▎      | 2500/7500 [11:44<22:13,  3.75it/s, loss=4.57e+3]\n",
      " 33%|███▎      | 2500/7500 [11:44<22:13,  3.75it/s, loss=2.98e+3]\n",
      " 33%|███▎      | 2500/7500 [11:44<22:13,  3.75it/s, loss=3.57e+3]\n",
      " 33%|███▎      | 2500/7500 [11:44<22:13,  3.75it/s, loss=4.83e+3]\n",
      " 33%|███▎      | 2500/7500 [11:44<22:13,  3.75it/s, loss=4.41e+3]\n",
      " 33%|███▎      | 2500/7500 [11:44<22:13,  3.75it/s, loss=4.02e+3]\n",
      " 33%|███▎      | 2500/7500 [11:45<22:13,  3.75it/s, loss=6551.0] \n",
      " 33%|███▎      | 2500/7500 [11:45<22:13,  3.75it/s, loss=3.22e+3]\n",
      " 33%|███▎      | 2500/7500 [11:45<22:13,  3.75it/s, loss=3675.5] \n",
      " 33%|███▎      | 2500/7500 [11:45<22:13,  3.75it/s, loss=4.16e+3]\n",
      " 33%|███▎      | 2500/7500 [11:45<22:13,  3.75it/s, loss=5.71e+3]\n",
      " 33%|███▎      | 2500/7500 [11:46<22:13,  3.75it/s, loss=3.66e+3]\n",
      " 33%|███▎      | 2500/7500 [11:46<22:13,  3.75it/s, loss=5.71e+3]\n",
      " 33%|███▎      | 2500/7500 [11:46<22:13,  3.75it/s, loss=5464.5] \n",
      " 33%|███▎      | 2500/7500 [11:46<22:13,  3.75it/s, loss=4.01e+3]\n",
      " 33%|███▎      | 2500/7500 [11:46<22:13,  3.75it/s, loss=3767.25]\n",
      " 33%|███▎      | 2500/7500 [11:47<22:13,  3.75it/s, loss=4.68e+3]\n",
      " 33%|███▎      | 2500/7500 [11:47<22:13,  3.75it/s, loss=4.01e+3]\n",
      " 33%|███▎      | 2500/7500 [11:47<22:13,  3.75it/s, loss=3.08e+3]\n",
      " 33%|███▎      | 2500/7500 [11:47<22:13,  3.75it/s, loss=4.54e+3]\n",
      " 33%|███▎      | 2500/7500 [11:47<22:13,  3.75it/s, loss=4.02e+3]\n",
      " 33%|███▎      | 2500/7500 [11:48<22:13,  3.75it/s, loss=5575.0] \n",
      " 33%|███▎      | 2500/7500 [11:48<22:13,  3.75it/s, loss=5.06e+3]\n",
      " 33%|███▎      | 2500/7500 [11:48<22:13,  3.75it/s, loss=4412.25]\n",
      " 33%|███▎      | 2500/7500 [11:48<22:13,  3.75it/s, loss=3829.75]\n",
      " 33%|███▎      | 2500/7500 [11:48<22:13,  3.75it/s, loss=3.67e+3]\n",
      " 33%|███▎      | 2500/7500 [11:49<22:13,  3.75it/s, loss=6.02e+3]\n",
      " 33%|███▎      | 2500/7500 [11:49<22:13,  3.75it/s, loss=2.52e+3]\n",
      " 33%|███▎      | 2500/7500 [11:49<22:13,  3.75it/s, loss=5.93e+3]\n",
      " 33%|███▎      | 2500/7500 [11:49<22:13,  3.75it/s, loss=4.9e+3] \n",
      " 33%|███▎      | 2500/7500 [11:49<22:13,  3.75it/s, loss=3.06e+3]\n",
      " 33%|███▎      | 2500/7500 [11:50<22:13,  3.75it/s, loss=4988.75]\n",
      " 33%|███▎      | 2500/7500 [11:50<22:13,  3.75it/s, loss=3079.0] \n",
      " 33%|███▎      | 2500/7500 [11:50<22:13,  3.75it/s, loss=5.4e+3] \n",
      " 33%|███▎      | 2500/7500 [11:50<22:13,  3.75it/s, loss=4.13e+3]\n",
      " 33%|███▎      | 2500/7500 [11:50<22:13,  3.75it/s, loss=5.97e+3]\n",
      " 33%|███▎      | 2500/7500 [11:50<22:13,  3.75it/s, loss=3.96e+3]\n",
      " 33%|███▎      | 2500/7500 [11:51<22:13,  3.75it/s, loss=4.1e+3] \n",
      " 33%|███▎      | 2500/7500 [11:51<22:13,  3.75it/s, loss=4.69e+3]\n",
      " 33%|███▎      | 2500/7500 [11:51<22:13,  3.75it/s, loss=6e+3]   \n",
      " 33%|███▎      | 2500/7500 [11:51<22:13,  3.75it/s, loss=5318.5] \n",
      " 33%|███▎      | 2500/7500 [11:51<22:13,  3.75it/s, loss=4025.5] \n",
      " 33%|███▎      | 2500/7500 [11:52<22:13,  3.75it/s, loss=4.91e+3]\n",
      " 33%|███▎      | 2500/7500 [11:52<22:13,  3.75it/s, loss=3934.25]\n",
      " 33%|███▎      | 2500/7500 [11:52<22:13,  3.75it/s, loss=3.93e+3]\n",
      " 33%|███▎      | 2500/7500 [11:52<22:13,  3.75it/s, loss=5.3e+3] \n",
      " 33%|███▎      | 2500/7500 [11:52<22:13,  3.75it/s, loss=3.56e+3]\n",
      " 33%|███▎      | 2500/7500 [11:53<22:13,  3.75it/s, loss=6.61e+3]\n",
      " 33%|███▎      | 2500/7500 [11:53<22:13,  3.75it/s, loss=4.02e+3]\n",
      " 33%|███▎      | 2500/7500 [11:53<22:13,  3.75it/s, loss=4.18e+3]\n",
      " 33%|███▎      | 2500/7500 [11:53<22:13,  3.75it/s, loss=3.84e+3]\n",
      " 33%|███▎      | 2500/7500 [11:53<22:13,  3.75it/s, loss=5.28e+3]\n",
      " 33%|███▎      | 2500/7500 [11:54<22:13,  3.75it/s, loss=3.65e+3]\n",
      " 33%|███▎      | 2500/7500 [11:54<22:13,  3.75it/s, loss=5313.75]\n",
      " 33%|███▎      | 2500/7500 [11:54<22:13,  3.75it/s, loss=6.62e+3]\n",
      " 33%|███▎      | 2500/7500 [11:54<22:13,  3.75it/s, loss=5.56e+3]\n",
      " 33%|███▎      | 2500/7500 [11:54<22:13,  3.75it/s, loss=6.13e+3]\n",
      " 33%|███▎      | 2500/7500 [11:55<22:13,  3.75it/s, loss=2.23e+3]\n",
      " 33%|███▎      | 2500/7500 [11:55<22:13,  3.75it/s, loss=6943.5] \n",
      " 33%|███▎      | 2500/7500 [11:55<22:13,  3.75it/s, loss=5.41e+3]\n",
      " 33%|███▎      | 2500/7500 [11:55<22:13,  3.75it/s, loss=4.8e+3] \n",
      " 33%|███▎      | 2500/7500 [11:55<22:13,  3.75it/s, loss=4.32e+3]\n",
      " 33%|███▎      | 2500/7500 [11:55<22:13,  3.75it/s, loss=5.19e+3]\n",
      " 33%|███▎      | 2500/7500 [11:56<22:13,  3.75it/s, loss=3.53e+3]\n",
      " 33%|███▎      | 2500/7500 [11:56<22:13,  3.75it/s, loss=3.55e+3]\n",
      " 33%|███▎      | 2500/7500 [11:56<22:13,  3.75it/s, loss=4.72e+3]\n",
      " 33%|███▎      | 2500/7500 [11:56<22:13,  3.75it/s, loss=4.4e+3] \n",
      " 33%|███▎      | 2500/7500 [11:56<22:13,  3.75it/s, loss=5.99e+3]\n",
      " 33%|███▎      | 2500/7500 [11:57<22:13,  3.75it/s, loss=4.14e+3]\n",
      " 33%|███▎      | 2500/7500 [11:57<22:13,  3.75it/s, loss=5.2e+3] \n",
      " 33%|███▎      | 2500/7500 [11:57<22:13,  3.75it/s, loss=5.14e+3]\n",
      " 33%|███▎      | 2500/7500 [11:57<22:13,  3.75it/s, loss=6.11e+3]\n",
      " 33%|███▎      | 2500/7500 [11:57<22:13,  3.75it/s, loss=5.39e+3]\n",
      " 33%|███▎      | 2500/7500 [11:58<22:13,  3.75it/s, loss=5.16e+3]\n",
      " 33%|███▎      | 2500/7500 [11:58<22:13,  3.75it/s, loss=5.71e+3]\n",
      " 33%|███▎      | 2500/7500 [11:58<22:13,  3.75it/s, loss=4.89e+3]\n",
      " 33%|███▎      | 2500/7500 [11:58<22:13,  3.75it/s, loss=3379.5] \n",
      " 33%|███▎      | 2500/7500 [11:58<22:13,  3.75it/s, loss=3.54e+3]\n",
      " 33%|███▎      | 2500/7500 [11:59<22:13,  3.75it/s, loss=3.73e+3]\n",
      " 33%|███▎      | 2500/7500 [11:59<22:13,  3.75it/s, loss=6.97e+3]\n",
      " 33%|███▎      | 2500/7500 [11:59<22:13,  3.75it/s, loss=4.06e+3]\n",
      " 33%|███▎      | 2500/7500 [11:59<22:13,  3.75it/s, loss=3.71e+3]\n",
      " 33%|███▎      | 2500/7500 [11:59<22:13,  3.75it/s, loss=5.94e+3]\n",
      " 33%|███▎      | 2500/7500 [12:00<22:13,  3.75it/s, loss=6.18e+3]\n",
      " 33%|███▎      | 2500/7500 [12:00<22:13,  3.75it/s, loss=7492.25]\n",
      " 33%|███▎      | 2500/7500 [12:00<22:13,  3.75it/s, loss=3.99e+3]\n",
      " 33%|███▎      | 2500/7500 [12:00<22:13,  3.75it/s, loss=4.01e+3]\n",
      " 33%|███▎      | 2500/7500 [12:00<22:13,  3.75it/s, loss=7.35e+3]\n",
      " 33%|███▎      | 2500/7500 [12:01<22:13,  3.75it/s, loss=5.87e+3]\n",
      " 33%|███▎      | 2500/7500 [12:01<22:13,  3.75it/s, loss=6.3e+3] \n",
      " 33%|███▎      | 2500/7500 [12:01<22:13,  3.75it/s, loss=5.43e+3]\n",
      " 33%|███▎      | 2500/7500 [12:01<22:13,  3.75it/s, loss=4.42e+3]\n",
      " 33%|███▎      | 2500/7500 [12:01<22:13,  3.75it/s, loss=4.47e+3]\n",
      " 33%|███▎      | 2500/7500 [12:01<22:13,  3.75it/s, loss=4.41e+3]\n",
      " 33%|███▎      | 2500/7500 [12:02<22:13,  3.75it/s, loss=7.58e+3]\n",
      " 33%|███▎      | 2500/7500 [12:02<22:13,  3.75it/s, loss=5.06e+3]\n",
      " 33%|███▎      | 2500/7500 [12:02<22:13,  3.75it/s, loss=4.77e+3]\n",
      " 33%|███▎      | 2500/7500 [12:02<22:13,  3.75it/s, loss=4.23e+3]\n",
      " 33%|███▎      | 2500/7500 [12:02<22:13,  3.75it/s, loss=6.88e+3]\n",
      " 33%|███▎      | 2500/7500 [12:03<22:13,  3.75it/s, loss=3.7e+3] \n",
      " 33%|███▎      | 2500/7500 [12:03<22:13,  3.75it/s, loss=5330.25]\n",
      " 33%|███▎      | 2500/7500 [12:03<22:13,  3.75it/s, loss=5.14e+3]\n",
      " 33%|███▎      | 2500/7500 [12:03<22:13,  3.75it/s, loss=5.74e+3]\n",
      " 33%|███▎      | 2500/7500 [12:03<22:13,  3.75it/s, loss=3.13e+3]\n",
      " 33%|███▎      | 2500/7500 [12:04<22:13,  3.75it/s, loss=5.18e+3]\n",
      " 33%|███▎      | 2500/7500 [12:04<22:13,  3.75it/s, loss=3.89e+3]\n",
      " 33%|███▎      | 2500/7500 [12:04<22:13,  3.75it/s, loss=6.16e+3]\n",
      " 33%|███▎      | 2500/7500 [12:04<22:13,  3.75it/s, loss=4.77e+3]\n",
      " 33%|███▎      | 2500/7500 [12:04<22:13,  3.75it/s, loss=3.69e+3]\n",
      " 33%|███▎      | 2500/7500 [12:05<22:13,  3.75it/s, loss=6372.25]\n",
      " 33%|███▎      | 2500/7500 [12:05<22:13,  3.75it/s, loss=5.31e+3]\n",
      " 33%|███▎      | 2500/7500 [12:05<22:13,  3.75it/s, loss=6.33e+3]\n",
      " 33%|███▎      | 2500/7500 [12:05<22:13,  3.75it/s, loss=2.52e+3]\n",
      " 33%|███▎      | 2500/7500 [12:05<22:13,  3.75it/s, loss=1.77e+3]\n",
      " 33%|███▎      | 2500/7500 [12:06<22:13,  3.75it/s, loss=3.99e+3]\n",
      " 33%|███▎      | 2500/7500 [12:06<22:13,  3.75it/s, loss=4.47e+3]\n",
      " 33%|███▎      | 2500/7500 [12:06<22:13,  3.75it/s, loss=2.88e+3]\n",
      " 33%|███▎      | 2500/7500 [12:06<22:13,  3.75it/s, loss=3.91e+3]\n",
      " 33%|███▎      | 2500/7500 [12:06<22:13,  3.75it/s, loss=4664.75]\n",
      " 33%|███▎      | 2500/7500 [12:07<22:13,  3.75it/s, loss=6.83e+3]\n",
      " 33%|███▎      | 2500/7500 [12:07<22:13,  3.75it/s, loss=5.36e+3]\n",
      " 33%|███▎      | 2500/7500 [12:07<22:13,  3.75it/s, loss=4.46e+3]\n",
      " 33%|███▎      | 2500/7500 [12:07<22:13,  3.75it/s, loss=3.97e+3]\n",
      " 33%|███▎      | 2500/7500 [12:07<22:13,  3.75it/s, loss=1.94e+3]\n",
      " 33%|███▎      | 2500/7500 [12:08<22:13,  3.75it/s, loss=4.55e+3]\n",
      " 33%|███▎      | 2500/7500 [12:08<22:13,  3.75it/s, loss=4.29e+3]\n",
      " 33%|███▎      | 2500/7500 [12:08<22:13,  3.75it/s, loss=4.2e+3] \n",
      " 33%|███▎      | 2500/7500 [12:08<22:13,  3.75it/s, loss=4.24e+3]\n",
      " 33%|███▎      | 2500/7500 [12:08<22:13,  3.75it/s, loss=5.24e+3]\n",
      " 33%|███▎      | 2500/7500 [12:08<22:13,  3.75it/s, loss=4.82e+3]\n",
      " 33%|███▎      | 2500/7500 [12:09<22:13,  3.75it/s, loss=4.67e+3]\n",
      " 33%|███▎      | 2500/7500 [12:09<22:13,  3.75it/s, loss=5.09e+3]\n",
      " 33%|███▎      | 625/1875 [12:09<01:59, 10.43it/s]\u001b[A"
     ]
    },
    {
     "name": "stdout",
     "output_type": "stream",
     "text": [
      "Eval MSE: 4726.427989648438\n",
      "TRAIN\n"
     ]
    },
    {
     "name": "stderr",
     "output_type": "stream",
     "text": [
      " 34%|███▍      | 2540/7500 [12:20<22:04,  3.74it/s, loss=474]    \n",
      " 67%|██████▋   | 5000/7500 [23:16<11:06,  3.75it/s, loss=4.59e+3]\n",
      " 67%|██████▋   | 5000/7500 [23:16<11:06,  3.75it/s, loss=6.31e+3]"
     ]
    },
    {
     "name": "stdout",
     "output_type": "stream",
     "text": [
      "EVAL\n"
     ]
    },
    {
     "name": "stderr",
     "output_type": "stream",
     "text": [
      " 67%|██████▋   | 5000/7500 [23:16<11:06,  3.75it/s, loss=4.78e+3]\n",
      " 67%|██████▋   | 5000/7500 [23:16<11:06,  3.75it/s, loss=4.76e+3]\n",
      " 67%|██████▋   | 5000/7500 [23:17<11:06,  3.75it/s, loss=4.92e+3]\n",
      " 67%|██████▋   | 5000/7500 [23:17<11:06,  3.75it/s, loss=3.63e+3]\n",
      " 67%|██████▋   | 5000/7500 [23:17<11:06,  3.75it/s, loss=5.27e+3]\n",
      " 67%|██████▋   | 5000/7500 [23:17<11:06,  3.75it/s, loss=3.73e+3]\n",
      " 67%|██████▋   | 5000/7500 [23:17<11:06,  3.75it/s, loss=4426.25]\n",
      " 67%|██████▋   | 5000/7500 [23:18<11:06,  3.75it/s, loss=3.55e+3]\n",
      " 67%|██████▋   | 5000/7500 [23:18<11:06,  3.75it/s, loss=4.46e+3]\n",
      " 67%|██████▋   | 5000/7500 [23:18<11:06,  3.75it/s, loss=6.71e+3]\n",
      " 67%|██████▋   | 5000/7500 [23:18<11:06,  3.75it/s, loss=4.18e+3]\n",
      " 67%|██████▋   | 5000/7500 [23:18<11:06,  3.75it/s, loss=4.45e+3]\n",
      " 67%|██████▋   | 5000/7500 [23:19<11:06,  3.75it/s, loss=4963.0] \n",
      " 67%|██████▋   | 5000/7500 [23:19<11:06,  3.75it/s, loss=4.14e+3]\n",
      " 67%|██████▋   | 5000/7500 [23:19<11:06,  3.75it/s, loss=6.84e+3]\n",
      " 67%|██████▋   | 5000/7500 [23:19<11:06,  3.75it/s, loss=3612.0] \n",
      " 67%|██████▋   | 5000/7500 [23:19<11:06,  3.75it/s, loss=4.24e+3]\n",
      " 67%|██████▋   | 5000/7500 [23:19<11:06,  3.75it/s, loss=2.41e+3]\n",
      " 67%|██████▋   | 5000/7500 [23:20<11:06,  3.75it/s, loss=4.67e+3]\n",
      " 67%|██████▋   | 5000/7500 [23:20<11:06,  3.75it/s, loss=4.45e+3]\n",
      " 67%|██████▋   | 5000/7500 [23:20<11:06,  3.75it/s, loss=4.37e+3]\n",
      " 67%|██████▋   | 5000/7500 [23:20<11:06,  3.75it/s, loss=3.82e+3]\n",
      " 67%|██████▋   | 5000/7500 [23:20<11:06,  3.75it/s, loss=4.88e+3]\n",
      " 67%|██████▋   | 5000/7500 [23:21<11:06,  3.75it/s, loss=4.15e+3]\n",
      " 67%|██████▋   | 5000/7500 [23:21<11:06,  3.75it/s, loss=7.47e+3]\n",
      " 67%|██████▋   | 5000/7500 [23:21<11:06,  3.75it/s, loss=4.17e+3]\n",
      " 67%|██████▋   | 5000/7500 [23:21<11:06,  3.75it/s, loss=6.8e+3] \n",
      " 67%|██████▋   | 5000/7500 [23:21<11:06,  3.75it/s, loss=4.62e+3]\n",
      " 67%|██████▋   | 5000/7500 [23:22<11:06,  3.75it/s, loss=4.75e+3]\n",
      " 67%|██████▋   | 5000/7500 [23:22<11:06,  3.75it/s, loss=4.89e+3]\n",
      " 67%|██████▋   | 5000/7500 [23:22<11:06,  3.75it/s, loss=3.59e+3]\n",
      " 67%|██████▋   | 5000/7500 [23:22<11:06,  3.75it/s, loss=4.74e+3]\n",
      " 67%|██████▋   | 5000/7500 [23:22<11:06,  3.75it/s, loss=5.56e+3]\n",
      " 67%|██████▋   | 5000/7500 [23:23<11:06,  3.75it/s, loss=6.24e+3]\n",
      " 67%|██████▋   | 5000/7500 [23:23<11:06,  3.75it/s, loss=3.92e+3]\n",
      " 67%|██████▋   | 5000/7500 [23:23<11:06,  3.75it/s, loss=7.69e+3]\n",
      " 67%|██████▋   | 5000/7500 [23:23<11:06,  3.75it/s, loss=4.56e+3]\n",
      " 67%|██████▋   | 5000/7500 [23:23<11:06,  3.75it/s, loss=6.13e+3]\n",
      " 67%|██████▋   | 5000/7500 [23:24<11:06,  3.75it/s, loss=6.59e+3]\n",
      " 67%|██████▋   | 5000/7500 [23:24<11:06,  3.75it/s, loss=6.07e+3]\n",
      " 67%|██████▋   | 5000/7500 [23:24<11:06,  3.75it/s, loss=4.27e+3]\n",
      " 67%|██████▋   | 5000/7500 [23:24<11:06,  3.75it/s, loss=6.58e+3]\n",
      " 67%|██████▋   | 5000/7500 [23:24<11:06,  3.75it/s, loss=3.04e+3]\n",
      " 67%|██████▋   | 5000/7500 [23:25<11:06,  3.75it/s, loss=4.41e+3]\n",
      " 67%|██████▋   | 5000/7500 [23:25<11:06,  3.75it/s, loss=5.65e+3]\n",
      " 67%|██████▋   | 5000/7500 [23:25<11:06,  3.75it/s, loss=5.99e+3]\n",
      " 67%|██████▋   | 5000/7500 [23:25<11:06,  3.75it/s, loss=6.31e+3]\n",
      " 67%|██████▋   | 5000/7500 [23:25<11:06,  3.75it/s, loss=4.82e+3]\n",
      " 67%|██████▋   | 5000/7500 [23:25<11:06,  3.75it/s, loss=3.88e+3]\n",
      " 67%|██████▋   | 5000/7500 [23:26<11:06,  3.75it/s, loss=5.19e+3]\n",
      " 67%|██████▋   | 5000/7500 [23:26<11:06,  3.75it/s, loss=2.22e+3]\n",
      " 67%|██████▋   | 5000/7500 [23:26<11:06,  3.75it/s, loss=4.6e+3] \n",
      " 67%|██████▋   | 5000/7500 [23:26<11:06,  3.75it/s, loss=5.68e+3]\n",
      " 67%|██████▋   | 5000/7500 [23:26<11:06,  3.75it/s, loss=4.17e+3]\n",
      " 67%|██████▋   | 5000/7500 [23:27<11:06,  3.75it/s, loss=4.4e+3] \n",
      " 67%|██████▋   | 5000/7500 [23:27<11:06,  3.75it/s, loss=2.89e+3]\n",
      " 67%|██████▋   | 5000/7500 [23:27<11:06,  3.75it/s, loss=5.29e+3]\n",
      " 67%|██████▋   | 5000/7500 [23:27<11:06,  3.75it/s, loss=3.28e+3]\n",
      " 67%|██████▋   | 5000/7500 [23:27<11:06,  3.75it/s, loss=4.29e+3]\n",
      " 67%|██████▋   | 5000/7500 [23:28<11:06,  3.75it/s, loss=3.5e+3] \n",
      " 67%|██████▋   | 5000/7500 [23:28<11:06,  3.75it/s, loss=4.81e+3]\n",
      " 67%|██████▋   | 5000/7500 [23:28<11:06,  3.75it/s, loss=2.47e+3]\n",
      " 67%|██████▋   | 5000/7500 [23:28<11:06,  3.75it/s, loss=3187.5] \n",
      " 67%|██████▋   | 5000/7500 [23:28<11:06,  3.75it/s, loss=5.69e+3]\n",
      " 67%|██████▋   | 5000/7500 [23:29<11:06,  3.75it/s, loss=6.14e+3]\n",
      " 67%|██████▋   | 5000/7500 [23:29<11:06,  3.75it/s, loss=3.56e+3]\n",
      " 67%|██████▋   | 5000/7500 [23:29<11:06,  3.75it/s, loss=2.19e+3]\n",
      " 67%|██████▋   | 5000/7500 [23:29<11:06,  3.75it/s, loss=6.4e+3] \n",
      " 67%|██████▋   | 5000/7500 [23:29<11:06,  3.75it/s, loss=4.45e+3]\n",
      " 67%|██████▋   | 5000/7500 [23:30<11:06,  3.75it/s, loss=4.44e+3]\n",
      " 67%|██████▋   | 5000/7500 [23:30<11:06,  3.75it/s, loss=4.22e+3]\n",
      " 67%|██████▋   | 5000/7500 [23:30<11:06,  3.75it/s, loss=4653.0] \n",
      " 67%|██████▋   | 5000/7500 [23:30<11:06,  3.75it/s, loss=5.78e+3]\n",
      " 67%|██████▋   | 5000/7500 [23:30<11:06,  3.75it/s, loss=3.35e+3]\n",
      " 67%|██████▋   | 5000/7500 [23:31<11:06,  3.75it/s, loss=3.9e+3] \n",
      " 67%|██████▋   | 5000/7500 [23:31<11:06,  3.75it/s, loss=4.7e+3] \n",
      " 67%|██████▋   | 5000/7500 [23:31<11:06,  3.75it/s, loss=2.22e+3]\n",
      " 67%|██████▋   | 5000/7500 [23:31<11:06,  3.75it/s, loss=4.31e+3]\n",
      " 67%|██████▋   | 5000/7500 [23:31<11:06,  3.75it/s, loss=3.45e+3]\n",
      " 67%|██████▋   | 5000/7500 [23:32<11:06,  3.75it/s, loss=7.58e+3]\n",
      " 67%|██████▋   | 5000/7500 [23:32<11:06,  3.75it/s, loss=3.13e+3]\n",
      " 67%|██████▋   | 5000/7500 [23:32<11:06,  3.75it/s, loss=3357.75]\n",
      " 67%|██████▋   | 5000/7500 [23:32<11:06,  3.75it/s, loss=5.57e+3]\n",
      " 67%|██████▋   | 5000/7500 [23:32<11:06,  3.75it/s, loss=4.1e+3] \n",
      " 67%|██████▋   | 5000/7500 [23:32<11:06,  3.75it/s, loss=5.34e+3]\n",
      " 67%|██████▋   | 5000/7500 [23:33<11:06,  3.75it/s, loss=2.8e+3] \n",
      " 67%|██████▋   | 5000/7500 [23:33<11:06,  3.75it/s, loss=5.97e+3]\n",
      " 67%|██████▋   | 5000/7500 [23:33<11:06,  3.75it/s, loss=5.1e+3] \n",
      " 67%|██████▋   | 5000/7500 [23:33<11:06,  3.75it/s, loss=4.68e+3]\n",
      " 67%|██████▋   | 5000/7500 [23:33<11:06,  3.75it/s, loss=6e+3]   \n",
      " 67%|██████▋   | 5000/7500 [23:34<11:06,  3.75it/s, loss=4.49e+3]\n",
      " 67%|██████▋   | 5000/7500 [23:34<11:06,  3.75it/s, loss=4.71e+3]\n",
      " 67%|██████▋   | 5000/7500 [23:34<11:06,  3.75it/s, loss=4.92e+3]\n",
      " 67%|██████▋   | 5000/7500 [23:34<11:06,  3.75it/s, loss=4.92e+3]\n",
      " 67%|██████▋   | 5000/7500 [23:34<11:06,  3.75it/s, loss=4.21e+3]\n",
      " 67%|██████▋   | 5000/7500 [23:35<11:06,  3.75it/s, loss=3.76e+3]\n",
      " 67%|██████▋   | 5000/7500 [23:35<11:06,  3.75it/s, loss=6.31e+3]\n",
      " 67%|██████▋   | 5000/7500 [23:35<11:06,  3.75it/s, loss=3.23e+3]\n",
      " 67%|██████▋   | 5000/7500 [23:35<11:06,  3.75it/s, loss=4.27e+3]\n",
      " 67%|██████▋   | 5000/7500 [23:35<11:06,  3.75it/s, loss=4.15e+3]\n",
      " 67%|██████▋   | 5000/7500 [23:36<11:06,  3.75it/s, loss=4.26e+3]\n",
      " 67%|██████▋   | 5000/7500 [23:36<11:06,  3.75it/s, loss=3.96e+3]\n",
      " 67%|██████▋   | 5000/7500 [23:36<11:06,  3.75it/s, loss=5.4e+3] \n",
      " 67%|██████▋   | 5000/7500 [23:36<11:06,  3.75it/s, loss=6.27e+3]\n",
      " 67%|██████▋   | 5000/7500 [23:36<11:06,  3.75it/s, loss=4.57e+3]\n",
      " 67%|██████▋   | 5000/7500 [23:37<11:06,  3.75it/s, loss=4.71e+3]\n",
      " 67%|██████▋   | 5000/7500 [23:37<11:06,  3.75it/s, loss=5.21e+3]\n",
      " 67%|██████▋   | 5000/7500 [23:37<11:06,  3.75it/s, loss=5.02e+3]\n",
      " 67%|██████▋   | 5000/7500 [23:37<11:06,  3.75it/s, loss=6.05e+3]\n",
      " 67%|██████▋   | 5000/7500 [23:37<11:06,  3.75it/s, loss=3.6e+3] \n",
      " 67%|██████▋   | 5000/7500 [23:38<11:06,  3.75it/s, loss=5.87e+3]\n",
      " 67%|██████▋   | 5000/7500 [23:38<11:06,  3.75it/s, loss=5.54e+3]\n",
      " 67%|██████▋   | 5000/7500 [23:38<11:06,  3.75it/s, loss=4.08e+3]\n",
      " 67%|██████▋   | 5000/7500 [23:38<11:06,  3.75it/s, loss=6204.0] \n",
      " 67%|██████▋   | 5000/7500 [23:38<11:06,  3.75it/s, loss=4.81e+3]\n",
      " 67%|██████▋   | 5000/7500 [23:39<11:06,  3.75it/s, loss=4.06e+3]\n",
      " 67%|██████▋   | 5000/7500 [23:39<11:06,  3.75it/s, loss=6.04e+3]\n",
      " 67%|██████▋   | 5000/7500 [23:39<11:06,  3.75it/s, loss=5425.0] \n",
      " 67%|██████▋   | 5000/7500 [23:39<11:06,  3.75it/s, loss=5.56e+3]\n",
      " 67%|██████▋   | 5000/7500 [23:39<11:06,  3.75it/s, loss=5.37e+3]\n",
      " 67%|██████▋   | 5000/7500 [23:39<11:06,  3.75it/s, loss=6.73e+3]\n",
      " 67%|██████▋   | 5000/7500 [23:40<11:06,  3.75it/s, loss=5e+3]   \n",
      " 67%|██████▋   | 5000/7500 [23:40<11:06,  3.75it/s, loss=5.97e+3]\n",
      " 67%|██████▋   | 5000/7500 [23:40<11:06,  3.75it/s, loss=4094.25]\n",
      " 67%|██████▋   | 5000/7500 [23:40<11:06,  3.75it/s, loss=4.2e+3] \n",
      " 67%|██████▋   | 5000/7500 [23:40<11:06,  3.75it/s, loss=5121.0] \n",
      " 67%|██████▋   | 5000/7500 [23:41<11:06,  3.75it/s, loss=6.3e+3] \n",
      " 67%|██████▋   | 5000/7500 [23:41<11:06,  3.75it/s, loss=3.42e+3]\n",
      " 67%|██████▋   | 5000/7500 [23:41<11:06,  3.75it/s, loss=4.43e+3]\n",
      " 67%|██████▋   | 5000/7500 [23:41<11:06,  3.75it/s, loss=3.88e+3]\n",
      " 67%|██████▋   | 5000/7500 [23:41<11:06,  3.75it/s, loss=6.38e+3]\n",
      " 67%|██████▋   | 5000/7500 [23:42<11:06,  3.75it/s, loss=5.42e+3]\n",
      " 67%|██████▋   | 5000/7500 [23:42<11:06,  3.75it/s, loss=4.47e+3]\n",
      " 67%|██████▋   | 5000/7500 [23:42<11:06,  3.75it/s, loss=2.4e+3] \n",
      " 67%|██████▋   | 5000/7500 [23:42<11:06,  3.75it/s, loss=5.51e+3]\n",
      " 67%|██████▋   | 5000/7500 [23:42<11:06,  3.75it/s, loss=4.24e+3]\n",
      " 67%|██████▋   | 5000/7500 [23:43<11:06,  3.75it/s, loss=4.6e+3] \n",
      " 67%|██████▋   | 5000/7500 [23:43<11:06,  3.75it/s, loss=4.07e+3]\n",
      " 67%|██████▋   | 5000/7500 [23:43<11:06,  3.75it/s, loss=3524.0] \n",
      " 67%|██████▋   | 5000/7500 [23:43<11:06,  3.75it/s, loss=4.61e+3]\n",
      " 67%|██████▋   | 5000/7500 [23:43<11:06,  3.75it/s, loss=4.17e+3]\n",
      " 67%|██████▋   | 5000/7500 [23:44<11:06,  3.75it/s, loss=2.76e+3]\n",
      " 67%|██████▋   | 5000/7500 [23:44<11:06,  3.75it/s, loss=7e+3]   \n",
      " 67%|██████▋   | 5000/7500 [23:44<11:06,  3.75it/s, loss=6.03e+3]\n",
      " 67%|██████▋   | 5000/7500 [23:44<11:06,  3.75it/s, loss=4.87e+3]\n",
      " 67%|██████▋   | 5000/7500 [23:44<11:06,  3.75it/s, loss=5.15e+3]\n",
      " 67%|██████▋   | 5000/7500 [23:45<11:06,  3.75it/s, loss=4.32e+3]\n",
      " 67%|██████▋   | 5000/7500 [23:45<11:06,  3.75it/s, loss=6.3e+3] \n",
      " 67%|██████▋   | 5000/7500 [23:45<11:06,  3.75it/s, loss=4.53e+3]\n",
      " 67%|██████▋   | 5000/7500 [23:45<11:06,  3.75it/s, loss=4.67e+3]\n",
      " 67%|██████▋   | 5000/7500 [23:45<11:06,  3.75it/s, loss=5.2e+3] \n",
      " 67%|██████▋   | 5000/7500 [23:45<11:06,  3.75it/s, loss=6.36e+3]\n",
      " 67%|██████▋   | 5000/7500 [23:46<11:06,  3.75it/s, loss=3.79e+3]\n",
      " 67%|██████▋   | 5000/7500 [23:46<11:06,  3.75it/s, loss=2.88e+3]\n",
      " 67%|██████▋   | 5000/7500 [23:46<11:06,  3.75it/s, loss=3.67e+3]\n",
      " 67%|██████▋   | 5000/7500 [23:46<11:06,  3.75it/s, loss=3.51e+3]\n",
      " 67%|██████▋   | 5000/7500 [23:46<11:06,  3.75it/s, loss=5.58e+3]\n",
      " 67%|██████▋   | 5000/7500 [23:47<11:06,  3.75it/s, loss=4.22e+3]\n",
      " 67%|██████▋   | 5000/7500 [23:47<11:06,  3.75it/s, loss=5.2e+3] \n",
      " 67%|██████▋   | 5000/7500 [23:47<11:06,  3.75it/s, loss=5011.0] \n",
      " 67%|██████▋   | 5000/7500 [23:47<11:06,  3.75it/s, loss=5389.75]\n",
      " 67%|██████▋   | 5000/7500 [23:47<11:06,  3.75it/s, loss=4.69e+3]\n",
      " 67%|██████▋   | 5000/7500 [23:48<11:06,  3.75it/s, loss=4364.0] \n",
      " 67%|██████▋   | 5000/7500 [23:48<11:06,  3.75it/s, loss=5.81e+3]\n",
      " 67%|██████▋   | 5000/7500 [23:48<11:06,  3.75it/s, loss=5.07e+3]\n",
      " 67%|██████▋   | 5000/7500 [23:48<11:06,  3.75it/s, loss=3.2e+3] \n",
      " 67%|██████▋   | 5000/7500 [23:48<11:06,  3.75it/s, loss=6.85e+3]\n",
      " 67%|██████▋   | 5000/7500 [23:49<11:06,  3.75it/s, loss=3.77e+3]\n",
      " 67%|██████▋   | 5000/7500 [23:49<11:06,  3.75it/s, loss=4.9e+3] \n",
      " 67%|██████▋   | 5000/7500 [23:49<11:06,  3.75it/s, loss=5.44e+3]\n",
      " 67%|██████▋   | 5000/7500 [23:49<11:06,  3.75it/s, loss=6.61e+3]\n",
      " 67%|██████▋   | 5000/7500 [23:49<11:06,  3.75it/s, loss=2.86e+3]\n",
      " 67%|██████▋   | 5000/7500 [23:50<11:06,  3.75it/s, loss=4.2e+3] \n",
      " 67%|██████▋   | 5000/7500 [23:50<11:06,  3.75it/s, loss=4.34e+3]\n",
      " 67%|██████▋   | 5000/7500 [23:50<11:06,  3.75it/s, loss=7.08e+3]\n",
      " 67%|██████▋   | 5000/7500 [23:50<11:06,  3.75it/s, loss=5.65e+3]\n",
      " 67%|██████▋   | 5000/7500 [23:50<11:06,  3.75it/s, loss=5.72e+3]\n",
      " 67%|██████▋   | 5000/7500 [23:51<11:06,  3.75it/s, loss=4709.5] \n",
      " 67%|██████▋   | 5000/7500 [23:51<11:06,  3.75it/s, loss=5.33e+3]\n",
      " 67%|██████▋   | 5000/7500 [23:51<11:06,  3.75it/s, loss=4.12e+3]\n",
      " 67%|██████▋   | 5000/7500 [23:51<11:06,  3.75it/s, loss=4.57e+3]\n",
      " 67%|██████▋   | 5000/7500 [23:51<11:06,  3.75it/s, loss=2.98e+3]\n",
      " 67%|██████▋   | 5000/7500 [23:52<11:06,  3.75it/s, loss=3.57e+3]\n",
      " 67%|██████▋   | 5000/7500 [23:52<11:06,  3.75it/s, loss=4.83e+3]\n",
      " 67%|██████▋   | 5000/7500 [23:52<11:06,  3.75it/s, loss=4.41e+3]\n",
      " 67%|██████▋   | 5000/7500 [23:52<11:06,  3.75it/s, loss=4.02e+3]\n",
      " 67%|██████▋   | 5000/7500 [23:52<11:06,  3.75it/s, loss=6551.0] \n",
      " 67%|██████▋   | 5000/7500 [23:52<11:06,  3.75it/s, loss=3.22e+3]\n",
      " 67%|██████▋   | 5000/7500 [23:53<11:06,  3.75it/s, loss=3675.5] \n",
      " 67%|██████▋   | 5000/7500 [23:53<11:06,  3.75it/s, loss=4.16e+3]\n",
      " 67%|██████▋   | 5000/7500 [23:53<11:06,  3.75it/s, loss=5.71e+3]\n",
      " 67%|██████▋   | 5000/7500 [23:53<11:06,  3.75it/s, loss=3.66e+3]\n",
      " 67%|██████▋   | 5000/7500 [23:53<11:06,  3.75it/s, loss=5.71e+3]\n",
      " 67%|██████▋   | 5000/7500 [23:54<11:06,  3.75it/s, loss=5464.5] \n",
      " 67%|██████▋   | 5000/7500 [23:54<11:06,  3.75it/s, loss=4.01e+3]\n",
      " 67%|██████▋   | 5000/7500 [23:54<11:06,  3.75it/s, loss=3767.25]\n",
      " 67%|██████▋   | 5000/7500 [23:54<11:06,  3.75it/s, loss=4.68e+3]\n",
      " 67%|██████▋   | 5000/7500 [23:54<11:06,  3.75it/s, loss=4.01e+3]\n",
      " 67%|██████▋   | 5000/7500 [23:55<11:06,  3.75it/s, loss=3.08e+3]\n",
      " 67%|██████▋   | 5000/7500 [23:55<11:06,  3.75it/s, loss=4.54e+3]\n",
      " 67%|██████▋   | 5000/7500 [23:55<11:06,  3.75it/s, loss=4.02e+3]\n",
      " 67%|██████▋   | 5000/7500 [23:55<11:06,  3.75it/s, loss=5575.0] \n",
      " 67%|██████▋   | 5000/7500 [23:55<11:06,  3.75it/s, loss=5.06e+3]\n",
      " 67%|██████▋   | 5000/7500 [23:56<11:06,  3.75it/s, loss=4412.25]\n",
      " 67%|██████▋   | 5000/7500 [23:56<11:06,  3.75it/s, loss=3829.75]\n",
      " 67%|██████▋   | 5000/7500 [23:56<11:06,  3.75it/s, loss=3.67e+3]\n",
      " 67%|██████▋   | 5000/7500 [23:56<11:06,  3.75it/s, loss=6.02e+3]\n",
      " 67%|██████▋   | 5000/7500 [23:56<11:06,  3.75it/s, loss=2.52e+3]\n",
      " 67%|██████▋   | 5000/7500 [23:57<11:06,  3.75it/s, loss=5.93e+3]\n",
      " 67%|██████▋   | 5000/7500 [23:57<11:06,  3.75it/s, loss=4.9e+3] \n",
      " 67%|██████▋   | 5000/7500 [23:57<11:06,  3.75it/s, loss=3.06e+3]\n",
      " 67%|██████▋   | 5000/7500 [23:57<11:06,  3.75it/s, loss=4988.75]\n",
      " 67%|██████▋   | 5000/7500 [23:57<11:06,  3.75it/s, loss=3079.0] \n",
      " 67%|██████▋   | 5000/7500 [23:58<11:06,  3.75it/s, loss=5.4e+3] \n",
      " 67%|██████▋   | 5000/7500 [23:58<11:06,  3.75it/s, loss=4.13e+3]\n",
      " 67%|██████▋   | 5000/7500 [23:58<11:06,  3.75it/s, loss=5.97e+3]\n",
      " 67%|██████▋   | 5000/7500 [23:58<11:06,  3.75it/s, loss=3.96e+3]\n",
      " 67%|██████▋   | 5000/7500 [23:58<11:06,  3.75it/s, loss=4.1e+3] \n",
      " 67%|██████▋   | 5000/7500 [23:58<11:06,  3.75it/s, loss=4.69e+3]\n",
      " 67%|██████▋   | 5000/7500 [23:59<11:06,  3.75it/s, loss=6e+3]   \n",
      " 67%|██████▋   | 5000/7500 [23:59<11:06,  3.75it/s, loss=5318.5] \n",
      " 67%|██████▋   | 5000/7500 [23:59<11:06,  3.75it/s, loss=4025.5] \n",
      " 67%|██████▋   | 5000/7500 [23:59<11:06,  3.75it/s, loss=4.91e+3]\n",
      " 67%|██████▋   | 5000/7500 [23:59<11:06,  3.75it/s, loss=3934.25]\n",
      " 67%|██████▋   | 5000/7500 [24:00<11:06,  3.75it/s, loss=3.93e+3]\n",
      " 67%|██████▋   | 5000/7500 [24:00<11:06,  3.75it/s, loss=5.3e+3] \n",
      " 67%|██████▋   | 5000/7500 [24:00<11:06,  3.75it/s, loss=3.56e+3]\n",
      " 67%|██████▋   | 5000/7500 [24:00<11:06,  3.75it/s, loss=6.61e+3]\n",
      " 67%|██████▋   | 5000/7500 [24:00<11:06,  3.75it/s, loss=4.02e+3]\n",
      " 67%|██████▋   | 5000/7500 [24:01<11:06,  3.75it/s, loss=4.18e+3]\n",
      " 67%|██████▋   | 5000/7500 [24:01<11:06,  3.75it/s, loss=3.84e+3]\n",
      " 67%|██████▋   | 5000/7500 [24:01<11:06,  3.75it/s, loss=5.28e+3]\n",
      " 67%|██████▋   | 5000/7500 [24:01<11:06,  3.75it/s, loss=3.65e+3]\n",
      " 67%|██████▋   | 5000/7500 [24:01<11:06,  3.75it/s, loss=5313.75]\n",
      " 67%|██████▋   | 5000/7500 [24:02<11:06,  3.75it/s, loss=6.62e+3]\n",
      " 67%|██████▋   | 5000/7500 [24:02<11:06,  3.75it/s, loss=5.56e+3]\n",
      " 67%|██████▋   | 5000/7500 [24:02<11:06,  3.75it/s, loss=6.13e+3]\n",
      " 67%|██████▋   | 5000/7500 [24:02<11:06,  3.75it/s, loss=2.23e+3]\n",
      " 67%|██████▋   | 5000/7500 [24:02<11:06,  3.75it/s, loss=6943.5] \n",
      " 67%|██████▋   | 5000/7500 [24:03<11:06,  3.75it/s, loss=5.41e+3]\n",
      " 67%|██████▋   | 5000/7500 [24:03<11:06,  3.75it/s, loss=4.8e+3] \n",
      " 67%|██████▋   | 5000/7500 [24:03<11:06,  3.75it/s, loss=4.32e+3]\n",
      " 67%|██████▋   | 5000/7500 [24:03<11:06,  3.75it/s, loss=5.19e+3]\n",
      " 67%|██████▋   | 5000/7500 [24:03<11:06,  3.75it/s, loss=3.53e+3]\n",
      " 67%|██████▋   | 5000/7500 [24:04<11:06,  3.75it/s, loss=3.55e+3]\n",
      " 67%|██████▋   | 5000/7500 [24:04<11:06,  3.75it/s, loss=4.72e+3]\n",
      " 67%|██████▋   | 5000/7500 [24:04<11:06,  3.75it/s, loss=4.4e+3] \n",
      " 67%|██████▋   | 5000/7500 [24:04<11:06,  3.75it/s, loss=5.99e+3]\n",
      " 67%|██████▋   | 5000/7500 [24:04<11:06,  3.75it/s, loss=4.14e+3]\n",
      " 67%|██████▋   | 5000/7500 [24:05<11:06,  3.75it/s, loss=5.2e+3] \n",
      " 67%|██████▋   | 5000/7500 [24:05<11:06,  3.75it/s, loss=5.14e+3]\n",
      " 67%|██████▋   | 5000/7500 [24:05<11:06,  3.75it/s, loss=6.11e+3]\n",
      " 67%|██████▋   | 5000/7500 [24:05<11:06,  3.75it/s, loss=5.39e+3]\n",
      " 67%|██████▋   | 5000/7500 [24:05<11:06,  3.75it/s, loss=5.16e+3]\n",
      " 67%|██████▋   | 5000/7500 [24:05<11:06,  3.75it/s, loss=5.71e+3]\n",
      " 67%|██████▋   | 5000/7500 [24:06<11:06,  3.75it/s, loss=4.89e+3]\n",
      " 67%|██████▋   | 5000/7500 [24:06<11:06,  3.75it/s, loss=3379.5] \n",
      " 67%|██████▋   | 5000/7500 [24:06<11:06,  3.75it/s, loss=3.54e+3]\n",
      " 67%|██████▋   | 5000/7500 [24:06<11:06,  3.75it/s, loss=3.73e+3]\n",
      " 67%|██████▋   | 5000/7500 [24:06<11:06,  3.75it/s, loss=6.97e+3]\n",
      " 67%|██████▋   | 5000/7500 [24:07<11:06,  3.75it/s, loss=4.06e+3]\n",
      " 67%|██████▋   | 5000/7500 [24:07<11:06,  3.75it/s, loss=3.71e+3]\n",
      " 67%|██████▋   | 5000/7500 [24:07<11:06,  3.75it/s, loss=5.94e+3]\n",
      " 67%|██████▋   | 5000/7500 [24:07<11:06,  3.75it/s, loss=6.18e+3]\n",
      " 67%|██████▋   | 5000/7500 [24:07<11:06,  3.75it/s, loss=7492.25]\n",
      " 67%|██████▋   | 5000/7500 [24:08<11:06,  3.75it/s, loss=3.99e+3]\n",
      " 67%|██████▋   | 5000/7500 [24:08<11:06,  3.75it/s, loss=4.01e+3]\n",
      " 67%|██████▋   | 5000/7500 [24:08<11:06,  3.75it/s, loss=7.35e+3]\n",
      " 67%|██████▋   | 5000/7500 [24:08<11:06,  3.75it/s, loss=5.87e+3]\n",
      " 67%|██████▋   | 5000/7500 [24:08<11:06,  3.75it/s, loss=6.3e+3] \n",
      " 67%|██████▋   | 5000/7500 [24:09<11:06,  3.75it/s, loss=5.43e+3]\n",
      " 67%|██████▋   | 5000/7500 [24:09<11:06,  3.75it/s, loss=4.42e+3]\n",
      " 67%|██████▋   | 5000/7500 [24:09<11:06,  3.75it/s, loss=4.47e+3]\n",
      " 67%|██████▋   | 5000/7500 [24:09<11:06,  3.75it/s, loss=4.41e+3]\n",
      " 67%|██████▋   | 5000/7500 [24:09<11:06,  3.75it/s, loss=7.58e+3]\n",
      " 67%|██████▋   | 5000/7500 [24:10<11:06,  3.75it/s, loss=5.06e+3]\n",
      " 67%|██████▋   | 5000/7500 [24:10<11:06,  3.75it/s, loss=4.77e+3]\n",
      " 67%|██████▋   | 5000/7500 [24:10<11:06,  3.75it/s, loss=4.23e+3]\n",
      " 67%|██████▋   | 5000/7500 [24:10<11:06,  3.75it/s, loss=6.88e+3]\n",
      " 67%|██████▋   | 5000/7500 [24:10<11:06,  3.75it/s, loss=3.7e+3] \n",
      " 67%|██████▋   | 5000/7500 [24:11<11:06,  3.75it/s, loss=5330.25]\n",
      " 67%|██████▋   | 5000/7500 [24:11<11:06,  3.75it/s, loss=5.14e+3]\n",
      " 67%|██████▋   | 5000/7500 [24:11<11:06,  3.75it/s, loss=5.74e+3]\n",
      " 67%|██████▋   | 5000/7500 [24:11<11:06,  3.75it/s, loss=3.13e+3]\n",
      " 67%|██████▋   | 5000/7500 [24:11<11:06,  3.75it/s, loss=5.18e+3]\n",
      " 67%|██████▋   | 5000/7500 [24:12<11:06,  3.75it/s, loss=3.89e+3]\n",
      " 67%|██████▋   | 5000/7500 [24:12<11:06,  3.75it/s, loss=6.16e+3]\n",
      " 67%|██████▋   | 5000/7500 [24:12<11:06,  3.75it/s, loss=4.77e+3]\n",
      " 67%|██████▋   | 5000/7500 [24:12<11:06,  3.75it/s, loss=3.69e+3]\n",
      " 67%|██████▋   | 5000/7500 [24:12<11:06,  3.75it/s, loss=6372.25]\n",
      " 67%|██████▋   | 5000/7500 [24:12<11:06,  3.75it/s, loss=5.31e+3]\n",
      " 67%|██████▋   | 5000/7500 [24:13<11:06,  3.75it/s, loss=6.33e+3]\n",
      " 67%|██████▋   | 5000/7500 [24:13<11:06,  3.75it/s, loss=2.52e+3]\n",
      " 67%|██████▋   | 5000/7500 [24:13<11:06,  3.75it/s, loss=1.77e+3]\n",
      " 67%|██████▋   | 5000/7500 [24:13<11:06,  3.75it/s, loss=3.99e+3]\n",
      " 67%|██████▋   | 5000/7500 [24:13<11:06,  3.75it/s, loss=4.47e+3]\n",
      " 67%|██████▋   | 5000/7500 [24:14<11:06,  3.75it/s, loss=2.88e+3]\n",
      " 67%|██████▋   | 5000/7500 [24:14<11:06,  3.75it/s, loss=3.91e+3]\n",
      " 67%|██████▋   | 5000/7500 [24:14<11:06,  3.75it/s, loss=4664.75]\n",
      " 67%|██████▋   | 5000/7500 [24:14<11:06,  3.75it/s, loss=6.83e+3]\n",
      " 67%|██████▋   | 5000/7500 [24:14<11:06,  3.75it/s, loss=5.36e+3]\n",
      " 67%|██████▋   | 5000/7500 [24:15<11:06,  3.75it/s, loss=4.46e+3]\n",
      " 67%|██████▋   | 5000/7500 [24:15<11:06,  3.75it/s, loss=3.97e+3]\n",
      " 67%|██████▋   | 5000/7500 [24:15<11:06,  3.75it/s, loss=1.94e+3]\n",
      " 67%|██████▋   | 5000/7500 [24:15<11:06,  3.75it/s, loss=4.55e+3]\n",
      " 67%|██████▋   | 5000/7500 [24:15<11:06,  3.75it/s, loss=4.29e+3]\n",
      " 67%|██████▋   | 5000/7500 [24:16<11:06,  3.75it/s, loss=4.2e+3] \n",
      " 67%|██████▋   | 5000/7500 [24:16<11:06,  3.75it/s, loss=4.24e+3]\n",
      " 67%|██████▋   | 5000/7500 [24:16<11:06,  3.75it/s, loss=5.24e+3]\n",
      " 67%|██████▋   | 5000/7500 [24:16<11:06,  3.75it/s, loss=4.82e+3]\n",
      " 67%|██████▋   | 5000/7500 [24:16<11:06,  3.75it/s, loss=4.67e+3]\n",
      " 67%|██████▋   | 5000/7500 [24:17<11:06,  3.75it/s, loss=5.09e+3]\n",
      " 67%|██████▋   | 1250/1875 [24:17<01:00, 10.34it/s]\u001b[A"
     ]
    },
    {
     "name": "stdout",
     "output_type": "stream",
     "text": [
      "Eval MSE: 4726.427989648438\n",
      "TRAIN\n"
     ]
    },
    {
     "name": "stderr",
     "output_type": "stream",
     "text": [
      " 67%|██████▋   | 5049/7500 [24:30<10:52,  3.75it/s, loss=715]       \n",
      " 84%|████████▍ | 6295/7500 [30:02<05:21,  3.75it/s, loss=412]    "
     ]
    }
   ],
   "source": [
    "progress_bar_train = tqdm(range(num_training_steps))\n",
    "progress_bar_eval = tqdm(range(num_epochs * len(dataloader_eval)))\n",
    "\n",
    "print(f\"Train size: {len(dataloader_train)}\")\n",
    "print(f\"Eval size: {len(dataloader_eval)}\")\n",
    "\n",
    "for epoch in range(num_epochs):\n",
    "    print(\"TRAIN\")\n",
    "    model.train()\n",
    "    for batch in dataloader_train:\n",
    "        batch = {k: v.to(device) for k, v in batch.items()}\n",
    "        outputs = model(**batch)\n",
    "\n",
    "        loss = outputs[2]  # loss\n",
    "        loss.backward()\n",
    "\n",
    "        optimizer.step()\n",
    "        lr_scheduler.step()\n",
    "        optimizer.zero_grad()\n",
    "        progress_bar_train.set_postfix({\"loss\": loss.item()})\n",
    "        progress_bar_train.update(1)\n",
    "\n",
    "        wandb.log({\"loss\": loss.item()})\n",
    "\n",
    "    print(\"EVAL\")\n",
    "    model.eval()\n",
    "    mse_metrics = []\n",
    "    for batch in dataloader_eval:\n",
    "        batch = {k: v.to(device) for k, v in batch.items()}\n",
    "\n",
    "        with torch.no_grad():\n",
    "            outputs = model(**batch)\n",
    "\n",
    "        logits = outputs[1]\n",
    "        predictions = torch.argmax(logits, dim=-1)\n",
    "\n",
    "        mse_metric = metric(predictions, batch[\"labels\"]).item()\n",
    "        mse_metrics.append(mse_metric)\n",
    "        progress_bar_eval.set_postfix({\"loss\": mse_metric})\n",
    "        progress_bar_eval.update(1)\n",
    "\n",
    "    print(f\"Eval MSE: {mean(mse_metrics)}\")"
   ]
  },
  {
   "cell_type": "markdown",
   "id": "62f795c9-6d27-43cd-b2fe-8dc01e332ff9",
   "metadata": {},
   "source": [
    "To do:\n",
    "figure out why mse metric is constant on all eval epochs"
   ]
  },
  {
   "cell_type": "code",
   "execution_count": 27,
   "id": "58b1ca04-bc0e-4201-817f-41c21dfa135b",
   "metadata": {},
   "outputs": [],
   "source": [
    "batch = {k: v.to(device) for k, v in next(iter(dataloader_train)).items()}\n",
    "\n",
    "with torch.no_grad():\n",
    "    outputs = model(**batch)"
   ]
  },
  {
   "cell_type": "code",
   "execution_count": 29,
   "id": "814a4033-da1d-4281-8351-479174751a53",
   "metadata": {},
   "outputs": [
    {
     "data": {
      "text/plain": [
       "{'input_ids': tensor([[17763,     8,   826,  ...,     0,     0,     0],\n",
       "         [17763,     8,   826,  ...,     0,     0,     0],\n",
       "         [17763,     8,   826,  ...,     0,     0,     0],\n",
       "         [17763,     8,   826,  ...,     0,     0,     0]], device='cuda:0'),\n",
       " 'attention_mask': tensor([[1, 1, 1,  ..., 0, 0, 0],\n",
       "         [1, 1, 1,  ..., 0, 0, 0],\n",
       "         [1, 1, 1,  ..., 0, 0, 0],\n",
       "         [1, 1, 1,  ..., 0, 0, 0]], device='cuda:0'),\n",
       " 'labels': tensor([43., 90., 82., 43.], device='cuda:0')}"
      ]
     },
     "execution_count": 29,
     "metadata": {},
     "output_type": "execute_result"
    }
   ],
   "source": [
    "batch"
   ]
  }
 ],
 "metadata": {
  "@deathbeds/ipydrawio": {
   "xml": ""
  },
  "kernelspec": {
   "display_name": "Python 3 (ipykernel)",
   "language": "python",
   "name": "python3"
  },
  "language_info": {
   "codemirror_mode": {
    "name": "ipython",
    "version": 3
   },
   "file_extension": ".py",
   "mimetype": "text/x-python",
   "name": "python",
   "nbconvert_exporter": "python",
   "pygments_lexer": "ipython3",
   "version": "3.9.16"
  }
 },
 "nbformat": 4,
 "nbformat_minor": 5
}
