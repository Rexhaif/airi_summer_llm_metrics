{
 "cells": [
  {
   "cell_type": "code",
   "execution_count": 2,
   "id": "276ad6ac",
   "metadata": {},
   "outputs": [
    {
     "name": "stdout",
     "output_type": "stream",
     "text": [
      "Name: transformers\r\n",
      "Version: 4.30.0\r\n",
      "Summary: State-of-the-art Machine Learning for JAX, PyTorch and TensorFlow\r\n",
      "Home-page: https://github.com/huggingface/transformers\r\n",
      "Author: The Hugging Face team (past and future) with the help of all our contributors (https://github.com/huggingface/transformers/graphs/contributors)\r\n",
      "Author-email: transformers@huggingface.co\r\n",
      "License: Apache 2.0 License\r\n",
      "Location: /home/vlad/.local/lib/python3.10/site-packages\r\n",
      "Requires: filelock, huggingface-hub, numpy, packaging, pyyaml, regex, requests, safetensors, tokenizers, tqdm\r\n",
      "Required-by: sentence-transformers\r\n"
     ]
    }
   ],
   "source": [
    "!pip show transformers"
   ]
  },
  {
   "cell_type": "code",
   "execution_count": 4,
   "id": "f1d0bc64",
   "metadata": {
    "scrolled": false
   },
   "outputs": [],
   "source": [
    "from transformers import AutoTokenizer, AutoModelForSeq2SeqLM"
   ]
  },
  {
   "cell_type": "code",
   "execution_count": 5,
   "id": "2931247a",
   "metadata": {},
   "outputs": [],
   "source": [
    "SEED = 0"
   ]
  },
  {
   "cell_type": "markdown",
   "id": "2223599b",
   "metadata": {},
   "source": [
    "## Прикручиваем LaBSE."
   ]
  },
  {
   "cell_type": "code",
   "execution_count": 6,
   "id": "b7afbd47",
   "metadata": {},
   "outputs": [
    {
     "name": "stderr",
     "output_type": "stream",
     "text": [
      "/usr/lib/python3/dist-packages/scipy/__init__.py:146: UserWarning: A NumPy version >=1.17.3 and <1.25.0 is required for this version of SciPy (detected version 1.25.1\n",
      "  warnings.warn(f\"A NumPy version >={np_minversion} and <{np_maxversion}\"\n"
     ]
    }
   ],
   "source": [
    "from sentence_transformers import SentenceTransformer"
   ]
  },
  {
   "cell_type": "code",
   "execution_count": 7,
   "id": "286167a8",
   "metadata": {},
   "outputs": [],
   "source": [
    "sentences = [\"This is an example sentence\", \"Each sentence is converted\"]\n",
    "\n",
    "LaBSE_name = 'sentence-transformers/LaBSE'\n",
    "LaBSE_small_name = \"sentence-transformers/paraphrase-multilingual-MiniLM-L12-v2\"\n",
    "\n",
    "sentence_model = SentenceTransformer(LaBSE_name)\n",
    "\n",
    "for param in sentence_model.parameters():\n",
    "    param.requires_grad = False"
   ]
  },
  {
   "cell_type": "code",
   "execution_count": 8,
   "id": "c0fbb27f",
   "metadata": {},
   "outputs": [
    {
     "name": "stdout",
     "output_type": "stream",
     "text": [
      "(2, 768)\n"
     ]
    }
   ],
   "source": [
    "import torch\n",
    "with torch.no_grad():\n",
    "    embeddings = sentence_model.encode(sentences)\n",
    "    print(embeddings.shape)"
   ]
  },
  {
   "cell_type": "markdown",
   "id": "b772ecd8",
   "metadata": {},
   "source": [
    "## Учим"
   ]
  },
  {
   "cell_type": "code",
   "execution_count": 9,
   "id": "e5521097",
   "metadata": {
    "scrolled": false
   },
   "outputs": [],
   "source": [
    "from sentence_transformers import ParallelSentencesDataset, losses\n",
    "from datasets import load_dataset\n",
    "from torch.utils.data import DataLoader"
   ]
  },
  {
   "cell_type": "code",
   "execution_count": 10,
   "id": "8057c136",
   "metadata": {},
   "outputs": [],
   "source": [
    "from transformers import set_seed"
   ]
  },
  {
   "cell_type": "code",
   "execution_count": 11,
   "id": "ae6256b0",
   "metadata": {},
   "outputs": [],
   "source": [
    "# Define your fine-tuning task\n",
    "dataset = load_dataset(\"RicardoRei/wmt-da-human-evaluation\",split=\"train\")\n",
    "\n",
    "train_dataset = dataset.filter(lambda example: (example[\"year\"] < 2022) & (example[\"lp\"] in [\"en-ru\", \"zh-en\", \"en-de\"]))\n",
    "train_dataloader = DataLoader(train_dataset, shuffle=True, batch_size=128)"
   ]
  },
  {
   "cell_type": "code",
   "execution_count": 12,
   "id": "fa8189f3",
   "metadata": {},
   "outputs": [],
   "source": [
    "checkpoint = \"bigscience/mt0-base\""
   ]
  },
  {
   "cell_type": "code",
   "execution_count": 13,
   "id": "9c7f089f",
   "metadata": {},
   "outputs": [],
   "source": [
    "from transformers import pipeline"
   ]
  },
  {
   "cell_type": "code",
   "execution_count": 14,
   "id": "d08adc35",
   "metadata": {},
   "outputs": [],
   "source": [
    "tokenizer = AutoTokenizer.from_pretrained(checkpoint)"
   ]
  },
  {
   "cell_type": "code",
   "execution_count": 15,
   "id": "e715c8f3",
   "metadata": {},
   "outputs": [
    {
     "name": "stderr",
     "output_type": "stream",
     "text": [
      "Some weights of MT5ForConditionalGeneration were not initialized from the model checkpoint at bigscience/mt0-base and are newly initialized: ['decoder.embed_tokens.weight']\n",
      "You should probably TRAIN this model on a down-stream task to be able to use it for predictions and inference.\n"
     ]
    }
   ],
   "source": [
    "try:\n",
    "    del pipe\n",
    "except NameError:\n",
    "    pass\n",
    "pipe = pipeline(\"text2text-generation\",\n",
    "                model=checkpoint,\n",
    "                device=\"cpu\",\n",
    "                tokenizer=tokenizer\n",
    "               )"
   ]
  },
  {
   "cell_type": "code",
   "execution_count": 16,
   "id": "e70fa45e",
   "metadata": {},
   "outputs": [],
   "source": [
    "for param in pipe.model.encoder.parameters():\n",
    "    param.requires_grad = False"
   ]
  },
  {
   "cell_type": "code",
   "execution_count": 17,
   "id": "c2887ce3",
   "metadata": {},
   "outputs": [],
   "source": [
    "for param in pipe.model.decoder.parameters():\n",
    "    param.requires_grad = False"
   ]
  },
  {
   "cell_type": "code",
   "execution_count": 18,
   "id": "c95df19f",
   "metadata": {},
   "outputs": [],
   "source": [
    "SEED += 1\n",
    "set_seed(SEED)"
   ]
  },
  {
   "cell_type": "code",
   "execution_count": 19,
   "id": "d83cfc99",
   "metadata": {},
   "outputs": [],
   "source": [
    "import torch"
   ]
  },
  {
   "cell_type": "code",
   "execution_count": 20,
   "id": "1296b484",
   "metadata": {},
   "outputs": [],
   "source": [
    "def get_gimba_prompt(source_lang, source_seg, target_lang, target_seg, reference_seg):\n",
    "    return f'''Score the following translation from {source_lang} to {target_lang} with respect to the human reference on a continuous scale from 0 to 100, where a score of 0 means \"no meaning preserved\" and score of 100 means \"perfect meaning and grammar\".\n",
    "    {source_lang} source: \"{source_seg}\"\n",
    "    {target_lang} human reference: {reference_seg}\n",
    "    {target_lang} translation: \"{target_seg}\"\n",
    "    Score:'''"
   ]
  },
  {
   "cell_type": "code",
   "execution_count": 21,
   "id": "c2585ee8",
   "metadata": {},
   "outputs": [],
   "source": [
    "def get_gimba_prompt_with_injection(source_lang, source_seg, target_lang, target_seg, reference_seg, injected_str):\n",
    "    return f'''Score the following translation from {source_lang} to {target_lang} with respect to the human reference on a continuous scale from 0 to 100, where a score of 0 means \"no meaning preserved\" and score of 100 means \"perfect meaning and grammar\".\n",
    "    {source_lang} source: \"{source_seg}\"\n",
    "    {target_lang} human reference: {reference_seg}\n",
    "    {target_lang} translation: \"{target_seg}\"\n",
    "    Special encoding of inputs: {injected_str}\n",
    "    Score:'''"
   ]
  },
  {
   "cell_type": "code",
   "execution_count": 22,
   "id": "96127678",
   "metadata": {},
   "outputs": [
    {
     "name": "stdout",
     "output_type": "stream",
     "text": [
      "en-de For older generations, singing together is seen as more important, it was part of their daily life both at school and in their leisure time, she explains.\n"
     ]
    }
   ],
   "source": [
    "for elem in train_dataset:\n",
    "    print(elem[\"lp\"], elem[\"src\"])\n",
    "    break"
   ]
  },
  {
   "cell_type": "code",
   "execution_count": 23,
   "id": "6e96780f",
   "metadata": {},
   "outputs": [],
   "source": [
    "abbr_to_language = {\n",
    "    \"en\" : \"English\",\n",
    "    \"de\" : \"Deutsch\",\n",
    "    \"zh\" : \"Chinese\",\n",
    "    \"ru\" : \"Russian\"\n",
    "}"
   ]
  },
  {
   "cell_type": "code",
   "execution_count": null,
   "id": "ad9fd068",
   "metadata": {},
   "outputs": [],
   "source": []
  },
  {
   "cell_type": "code",
   "execution_count": 24,
   "id": "c021acfd",
   "metadata": {},
   "outputs": [
    {
     "name": "stdout",
     "output_type": "stream",
     "text": [
      "{'lp': 'en-de', 'src': 'For older generations, singing together is seen as more important, it was part of their daily life both at school and in their leisure time, she explains.', 'mt': 'Für ältere Generationen wird Gesang gemeinsam als wichtiger angesehen, es gehörte zu ihrem Alltag sowohl in der Schule als auch in ihrer Freizeit, erklärt sie.', 'ref': 'In den älteren Generationen hatte das gemeinsame Singen einen viel höheren Stellenwert, es gehörte zum Alltag, sowohl in der Schule als auch in der Freizeit, erklärt sie.', 'score': 0.225731637374983, 'raw': 76.0, 'annotators': 1, 'domain': 'news', 'year': 2017}\n"
     ]
    }
   ],
   "source": [
    "for elem in train_dataset:\n",
    "    print(elem)\n",
    "    break"
   ]
  },
  {
   "cell_type": "code",
   "execution_count": 25,
   "id": "2247026b",
   "metadata": {},
   "outputs": [],
   "source": [
    "import numpy as np"
   ]
  },
  {
   "cell_type": "code",
   "execution_count": 26,
   "id": "51979f0e",
   "metadata": {},
   "outputs": [],
   "source": [
    "from torch.utils.data import Dataset, DataLoader\n",
    "\n",
    "class MyDataset(Dataset):\n",
    "    def __init__(self, data,\n",
    "                 train_name, target_name, ref_name, lp_name, src_name):\n",
    "        self.inputs = []\n",
    "        self.refs = []\n",
    "        self.lps = []\n",
    "        self.srcs = []\n",
    "        \n",
    "        self.targets = []\n",
    "        for element in data:\n",
    "            self.inputs.append(element[train_name])\n",
    "            \n",
    "            self.lps.append(element[lp_name])\n",
    "            self.targets.append(element[target_name])\n",
    "            \n",
    "            self.refs.append(element[ref_name])\n",
    "            #self.srcs.extend([element[src_name]] * len(element[target_name]))\n",
    "            self.srcs.append(element[src_name])\n",
    "    def __len__(self):\n",
    "        return len(self.inputs)\n",
    "\n",
    "    def __getitem__(self, idx):\n",
    "        torch.cuda.empty_cache()\n",
    "        # Implement logic to retrieve input and target data\n",
    "        \n",
    "        lang_from, lang_to = self.lps[idx].split(\"-\")\n",
    "        lang_from = abbr_to_language[lang_from]\n",
    "        lang_to = abbr_to_language[lang_to]\n",
    "        \n",
    "        injected_str = \"\"\n",
    "        with torch.no_grad():\n",
    "            for sentence in [self.srcs[idx], self.inputs[idx], self.refs[idx]]:\n",
    "                if sentence is None:\n",
    "                    sentence = \" \"\n",
    "                encoding = sentence_model.encode(sentence)\n",
    "                injected_str += str(np.round(encoding.mean(), 2))\n",
    "                injected_str += \" \"\n",
    "                injected_str += str(np.round(encoding.std(ddof=1), 2))\n",
    "                injected_str += \" \"\n",
    "                injected_str += str(encoding.argmax())\n",
    "                injected_str += \" \"\n",
    "        \n",
    "        prompt = get_gimba_prompt(lang_from, self.srcs[idx], lang_to, self.inputs[idx], self.refs[idx])\n",
    "        \n",
    "        # print(prompt)\n",
    "        \n",
    "        input_data = tokenizer(prompt, return_tensors=\"pt\")    \n",
    "        \n",
    "        for key in input_data.keys():\n",
    "            input_data[key] = input_data[key][0]\n",
    "        \n",
    "        # print(input_data[\"input_ids\"].shape)\n",
    "        \n",
    "        input_data['labels'] = torch.Tensor([self.targets[idx]])\n",
    "        \n",
    "        return input_data"
   ]
  },
  {
   "cell_type": "code",
   "execution_count": 27,
   "id": "e1aa2f48",
   "metadata": {},
   "outputs": [],
   "source": [
    "finetune_dataset = MyDataset(train_dataset, \"mt\", \"raw\", \"ref\", \"lp\", \"src\")"
   ]
  },
  {
   "cell_type": "markdown",
   "id": "bbd199d4",
   "metadata": {},
   "source": [
    "input_tensor = torch.unsqueeze(\n",
    "                            torch.normal(torch.zeros(768),\n",
    "                                        torch.ones(768)).type(torch.int32),\n",
    "                            dim=0)\n",
    "\n",
    "pipe.model.decoder.block[0].forward(input_tensor)"
   ]
  },
  {
   "cell_type": "code",
   "execution_count": 29,
   "id": "7419d6ed",
   "metadata": {},
   "outputs": [],
   "source": [
    "pad_token = 259"
   ]
  },
  {
   "cell_type": "code",
   "execution_count": 30,
   "id": "bdf977b1",
   "metadata": {},
   "outputs": [],
   "source": [
    "from transformers import Trainer, TrainingArguments"
   ]
  },
  {
   "cell_type": "code",
   "execution_count": 31,
   "id": "ff5d1d42",
   "metadata": {},
   "outputs": [],
   "source": [
    "class EmbedFinetuneTrainer(Trainer):\n",
    "    def compute_loss(self, model, inputs, return_outputs=False):\n",
    "        outputs = model(**inputs)\n",
    "        return outputs.loss"
   ]
  },
  {
   "cell_type": "code",
   "execution_count": 32,
   "id": "57ae0796",
   "metadata": {},
   "outputs": [],
   "source": [
    "from transformers import DataCollatorForSeq2Seq"
   ]
  },
  {
   "cell_type": "code",
   "execution_count": 33,
   "id": "d4bd5b0c",
   "metadata": {},
   "outputs": [],
   "source": [
    "collator = DataCollatorForSeq2Seq(tokenizer, label_pad_token_id = pad_token)"
   ]
  },
  {
   "cell_type": "code",
   "execution_count": 34,
   "id": "96302a63",
   "metadata": {},
   "outputs": [
    {
     "name": "stderr",
     "output_type": "stream",
     "text": [
      "/home/vlad/.local/lib/python3.10/site-packages/torch/cuda/__init__.py:546: UserWarning: Can't initialize NVML\n",
      "  warnings.warn(\"Can't initialize NVML\")\n"
     ]
    }
   ],
   "source": [
    "training_args = TrainingArguments(\n",
    "    output_dir='./results',\n",
    "    num_train_epochs=0.02,\n",
    "    per_device_train_batch_size=32,\n",
    "    per_device_eval_batch_size=32,\n",
    "    warmup_steps=50,\n",
    "    weight_decay=0.01,\n",
    "    logging_dir='./logs',\n",
    "    logging_steps=15,\n",
    ")\n",
    "\n",
    "trainer = EmbedFinetuneTrainer(\n",
    "    model=pipe.model,\n",
    "    args=training_args,\n",
    "    train_dataset=finetune_dataset,\n",
    "    data_collator=collator\n",
    ")"
   ]
  },
  {
   "cell_type": "markdown",
   "id": "23d6ba7e",
   "metadata": {},
   "source": [
    "Subclass and override trainer for custom behaviour"
   ]
  },
  {
   "cell_type": "code",
   "execution_count": 35,
   "id": "0af6f37f",
   "metadata": {
    "scrolled": false
   },
   "outputs": [
    {
     "name": "stderr",
     "output_type": "stream",
     "text": [
      "/home/vlad/.local/lib/python3.10/site-packages/transformers/optimization.py:411: FutureWarning: This implementation of AdamW is deprecated and will be removed in a future version. Use the PyTorch implementation torch.optim.AdamW instead, or set `no_deprecation_warning=True` to disable this warning\n",
      "  warnings.warn(\n",
      "You're using a T5TokenizerFast tokenizer. Please note that with a fast tokenizer, using the `__call__` method is faster than using a method to encode the text followed by a call to the `pad` method to get a padded encoding.\n"
     ]
    },
    {
     "data": {
      "text/html": [
       "\n",
       "    <div>\n",
       "      \n",
       "      <progress value='226' max='226' style='width:300px; height:20px; vertical-align: middle;'></progress>\n",
       "      [226/226 1:29:45, Epoch 0/1]\n",
       "    </div>\n",
       "    <table border=\"1\" class=\"dataframe\">\n",
       "  <thead>\n",
       " <tr style=\"text-align: left;\">\n",
       "      <th>Step</th>\n",
       "      <th>Training Loss</th>\n",
       "    </tr>\n",
       "  </thead>\n",
       "  <tbody>\n",
       "    <tr>\n",
       "      <td>15</td>\n",
       "      <td>26.354400</td>\n",
       "    </tr>\n",
       "    <tr>\n",
       "      <td>30</td>\n",
       "      <td>26.342500</td>\n",
       "    </tr>\n",
       "    <tr>\n",
       "      <td>45</td>\n",
       "      <td>26.314900</td>\n",
       "    </tr>\n",
       "    <tr>\n",
       "      <td>60</td>\n",
       "      <td>26.121800</td>\n",
       "    </tr>\n",
       "    <tr>\n",
       "      <td>75</td>\n",
       "      <td>26.023900</td>\n",
       "    </tr>\n",
       "    <tr>\n",
       "      <td>90</td>\n",
       "      <td>26.018000</td>\n",
       "    </tr>\n",
       "    <tr>\n",
       "      <td>105</td>\n",
       "      <td>25.980200</td>\n",
       "    </tr>\n",
       "    <tr>\n",
       "      <td>120</td>\n",
       "      <td>25.868600</td>\n",
       "    </tr>\n",
       "    <tr>\n",
       "      <td>135</td>\n",
       "      <td>25.921200</td>\n",
       "    </tr>\n",
       "    <tr>\n",
       "      <td>150</td>\n",
       "      <td>25.690500</td>\n",
       "    </tr>\n",
       "    <tr>\n",
       "      <td>165</td>\n",
       "      <td>25.615700</td>\n",
       "    </tr>\n",
       "    <tr>\n",
       "      <td>180</td>\n",
       "      <td>25.681000</td>\n",
       "    </tr>\n",
       "    <tr>\n",
       "      <td>195</td>\n",
       "      <td>25.710200</td>\n",
       "    </tr>\n",
       "    <tr>\n",
       "      <td>210</td>\n",
       "      <td>25.539200</td>\n",
       "    </tr>\n",
       "    <tr>\n",
       "      <td>225</td>\n",
       "      <td>25.561400</td>\n",
       "    </tr>\n",
       "  </tbody>\n",
       "</table><p>"
      ],
      "text/plain": [
       "<IPython.core.display.HTML object>"
      ]
     },
     "metadata": {},
     "output_type": "display_data"
    },
    {
     "data": {
      "text/plain": [
       "TrainOutput(global_step=226, training_loss=25.913636975583778, metrics={'train_runtime': 5411.4204, 'train_samples_per_second': 1.335, 'train_steps_per_second': 0.042, 'total_flos': 6455664373137408.0, 'train_loss': 25.913636975583778, 'epoch': 0.02})"
      ]
     },
     "execution_count": 35,
     "metadata": {},
     "output_type": "execute_result"
    }
   ],
   "source": [
    "trainer.train()"
   ]
  },
  {
   "cell_type": "code",
   "execution_count": 36,
   "id": "5a7fe89c",
   "metadata": {},
   "outputs": [],
   "source": [
    "import pickle"
   ]
  },
  {
   "cell_type": "code",
   "execution_count": 37,
   "id": "5a6d457a",
   "metadata": {},
   "outputs": [],
   "source": [
    "with open(\"pipeline_model_tuned.pickle\", \"wb\") as file:\n",
    "    pickle.dump(pipe.model, file)"
   ]
  },
  {
   "cell_type": "code",
   "execution_count": null,
   "id": "ba82e580",
   "metadata": {},
   "outputs": [],
   "source": []
  },
  {
   "cell_type": "code",
   "execution_count": null,
   "id": "d9b5ba1a",
   "metadata": {},
   "outputs": [],
   "source": []
  },
  {
   "cell_type": "code",
   "execution_count": null,
   "id": "46b56d27",
   "metadata": {},
   "outputs": [],
   "source": []
  },
  {
   "cell_type": "code",
   "execution_count": 38,
   "id": "7662b0f1",
   "metadata": {},
   "outputs": [],
   "source": [
    "def get_gimba_prompt_with_injection(source_lang, source_seg, target_lang, target_seg, reference_seg, injected_str):\n",
    "    return f'''Score the following translation from {input_lang} to {target_lang} with respect to the human reference with one to five stars.\n",
    "Where one star means \"Nonsense/No meaning preserved\",\n",
    "two stars mean \"Some meaning preserved, but not understandable\",\n",
    "three stars mean \"Some meaning preserved and understandable\",\n",
    "four stars mean \"Most meaning preserved with possibly few grammar mistakes\",\n",
    "five stars mean \"Prefect meaning and grammar\".\n",
    "    {source_lang} source: \"{source_seg}\"\n",
    "    {target_lang} human reference: {reference_seg}\n",
    "    {target_lang} translation: \"{target_seg}\"\n",
    "    Special encoding of inputs: {injected_str}\n",
    "    Score:'''"
   ]
  },
  {
   "cell_type": "code",
   "execution_count": 39,
   "id": "530a3833",
   "metadata": {},
   "outputs": [],
   "source": [
    "from torch.utils.data import Dataset, DataLoader\n",
    "\n",
    "class MyDataset(Dataset):\n",
    "    def __init__(self, data,\n",
    "                 train_name, target_name, ref_name, lp_name, src_name):\n",
    "        self.inputs = []\n",
    "        self.refs = []\n",
    "        self.lps = []\n",
    "        self.srcs = []\n",
    "        \n",
    "        self.targets = []\n",
    "        for element in data:\n",
    "            self.inputs.append(element[train_name])\n",
    "            \n",
    "            self.lps.append(element[lp_name])\n",
    "            self.targets.append(element[target_name])\n",
    "            \n",
    "            self.refs.append(element[ref_name])\n",
    "            #self.srcs.extend([element[src_name]] * len(element[target_name]))\n",
    "            self.srcs.append(element[src_name])\n",
    "    def __len__(self):\n",
    "        return len(self.inputs)\n",
    "\n",
    "    def __getitem__(self, idx):\n",
    "        torch.cuda.empty_cache()\n",
    "        # Implement logic to retrieve input and target data\n",
    "        \n",
    "        lang_from, lang_to = self.lps[idx].split(\"-\")\n",
    "        lang_from = abbr_to_language[lang_from]\n",
    "        lang_to = abbr_to_language[lang_to]\n",
    "        \n",
    "        injected_str = \"\"\n",
    "        with torch.no_grad():\n",
    "            for sentence in [self.srcs[idx], self.inputs[idx], self.refs[idx]]:\n",
    "                if sentence is None:\n",
    "                    sentence = \" \"\n",
    "                encoding = sentence_model.encode(sentence)\n",
    "                injected_str += str(np.round(encoding.mean(), 2))\n",
    "                injected_str += \" \"\n",
    "                injected_str += str(np.round(encoding.std(ddof=1), 2))\n",
    "                injected_str += \" \"\n",
    "                injected_str += str(encoding.argmax())\n",
    "                injected_str += \" \"\n",
    "        \n",
    "        prompt = get_gimba_prompt(lang_from, self.srcs[idx], lang_to, self.inputs[idx], self.refs[idx])\n",
    "        \n",
    "        # print(prompt)\n",
    "        \n",
    "        input_data = tokenizer(prompt, return_tensors=\"pt\")    \n",
    "        \n",
    "        for key in input_data.keys():\n",
    "            input_data[key] = input_data[key][0]\n",
    "        \n",
    "        # print(input_data[\"input_ids\"].shape)\n",
    "        \n",
    "        input_data['labels'] = torch.Tensor([self.targets[idx]])\n",
    "        \n",
    "        return input_data"
   ]
  },
  {
   "cell_type": "code",
   "execution_count": 40,
   "id": "4e9e0ae7",
   "metadata": {},
   "outputs": [],
   "source": [
    "finetune_dataset = MyDataset(train_dataset, \"mt\", \"raw\", \"ref\", \"lp\", \"src\")"
   ]
  },
  {
   "cell_type": "markdown",
   "id": "af683c79",
   "metadata": {},
   "source": [
    "input_tensor = torch.unsqueeze(\n",
    "                            torch.normal(torch.zeros(768),\n",
    "                                        torch.ones(768)).type(torch.int32),\n",
    "                            dim=0)\n",
    "\n",
    "pipe.model.decoder.block[0].forward(input_tensor)"
   ]
  },
  {
   "cell_type": "code",
   "execution_count": 41,
   "id": "aabbcc29",
   "metadata": {},
   "outputs": [
    {
     "data": {
      "text/plain": [
       "{'input_ids': tensor([ 62906,    287,    259,   9877,  53802,    702,   5413,    288,  22606,\n",
       "           514,   7521,    288,    287,   6910,  33749,    351,    259,    262,\n",
       "           317,  93317,  39009,    702,    497,    288,    966,    261,    259,\n",
       "          3001,    259,    262,  18575,    304,    497,    259,  12909,    313,\n",
       "           505,  31560,    786,  42816,    311,    305,  18575,    304,    966,\n",
       "           259,  12909,    313, 137988,  31560,    305,    259, 164814,   1191,\n",
       "          5413,  10219,    267,    313,   2009,    259,  93967,    263,    418,\n",
       "          3506,    261,    259,  99195,  14355,    702,   6604,   2225,    288,\n",
       "           287,  16780,    347,    317, 100180,    277,    263, 226932,    468,\n",
       "         24107,    351,   6665,   2454,  22606,   6910,  33749,    267,   1659,\n",
       "          5973,    270,  59058,  40503,    364, 143520,    272,    261,    398,\n",
       "          7873,    795,    442,  50389, 145701,   1581,   7565,   2774,  71571,\n",
       "           318, 162194,    281,   1071,  19182,   1015, 113017,    442,  13838,\n",
       "        131551,    412, 100180,   1995,  63552,    260,  22606,  53802,    267,\n",
       "           313,  13568,    364, 143520,    272,   1926,   3393,    265,    261,\n",
       "           398,   7873,    795,    442,   4962, 145701,   1581,   2774, 175606,\n",
       "         85047,    263, 143948,    442,  13838, 131551,    412, 100180,   1995,\n",
       "         63552,   2454,  62906,    267,      1]), 'attention_mask': tensor([1, 1, 1, 1, 1, 1, 1, 1, 1, 1, 1, 1, 1, 1, 1, 1, 1, 1, 1, 1, 1, 1, 1, 1,\n",
       "        1, 1, 1, 1, 1, 1, 1, 1, 1, 1, 1, 1, 1, 1, 1, 1, 1, 1, 1, 1, 1, 1, 1, 1,\n",
       "        1, 1, 1, 1, 1, 1, 1, 1, 1, 1, 1, 1, 1, 1, 1, 1, 1, 1, 1, 1, 1, 1, 1, 1,\n",
       "        1, 1, 1, 1, 1, 1, 1, 1, 1, 1, 1, 1, 1, 1, 1, 1, 1, 1, 1, 1, 1, 1, 1, 1,\n",
       "        1, 1, 1, 1, 1, 1, 1, 1, 1, 1, 1, 1, 1, 1, 1, 1, 1, 1, 1, 1, 1, 1, 1, 1,\n",
       "        1, 1, 1, 1, 1, 1, 1, 1, 1, 1, 1, 1, 1, 1, 1, 1, 1, 1, 1, 1, 1, 1, 1, 1,\n",
       "        1, 1, 1, 1, 1, 1, 1, 1, 1, 1, 1, 1, 1, 1]), 'labels': tensor([23.])}"
      ]
     },
     "execution_count": 41,
     "metadata": {},
     "output_type": "execute_result"
    }
   ],
   "source": [
    "finetune_dataset[1]"
   ]
  },
  {
   "cell_type": "code",
   "execution_count": 42,
   "id": "8048b016",
   "metadata": {},
   "outputs": [],
   "source": [
    "pad_token = 259"
   ]
  },
  {
   "cell_type": "code",
   "execution_count": 43,
   "id": "96179593",
   "metadata": {},
   "outputs": [],
   "source": [
    "from transformers import Trainer, TrainingArguments"
   ]
  },
  {
   "cell_type": "code",
   "execution_count": 44,
   "id": "5a43baa9",
   "metadata": {},
   "outputs": [],
   "source": [
    "class EmbedFinetuneTrainer(Trainer):\n",
    "    def compute_loss(self, model, inputs, return_outputs=False):\n",
    "        outputs = model(**inputs)\n",
    "        return outputs.loss"
   ]
  },
  {
   "cell_type": "code",
   "execution_count": 45,
   "id": "4cf8fd12",
   "metadata": {},
   "outputs": [],
   "source": [
    "from transformers import DataCollatorForSeq2Seq"
   ]
  },
  {
   "cell_type": "code",
   "execution_count": 46,
   "id": "57780160",
   "metadata": {},
   "outputs": [],
   "source": [
    "collator = DataCollatorForSeq2Seq(tokenizer, label_pad_token_id = pad_token)"
   ]
  },
  {
   "cell_type": "code",
   "execution_count": 49,
   "id": "84075150",
   "metadata": {},
   "outputs": [],
   "source": [
    "training_args = TrainingArguments(\n",
    "    output_dir='./results',\n",
    "    num_train_epochs=0.02,\n",
    "    per_device_train_batch_size=32,\n",
    "    per_device_eval_batch_size=32,\n",
    "    warmup_steps=50,\n",
    "    weight_decay=0.01,\n",
    "    logging_dir='./logs',\n",
    "    logging_steps=15,\n",
    ")\n",
    "\n",
    "trainer = EmbedFinetuneTrainer(\n",
    "    model=pipe.model,\n",
    "    args=training_args,\n",
    "    train_dataset=finetune_dataset,\n",
    "    data_collator=collator\n",
    ")"
   ]
  },
  {
   "cell_type": "code",
   "execution_count": 50,
   "id": "8ffc4050",
   "metadata": {},
   "outputs": [
    {
     "data": {
      "text/html": [
       "\n",
       "    <div>\n",
       "      \n",
       "      <progress value='226' max='226' style='width:300px; height:20px; vertical-align: middle;'></progress>\n",
       "      [226/226 1:23:02, Epoch 0/1]\n",
       "    </div>\n",
       "    <table border=\"1\" class=\"dataframe\">\n",
       "  <thead>\n",
       " <tr style=\"text-align: left;\">\n",
       "      <th>Step</th>\n",
       "      <th>Training Loss</th>\n",
       "    </tr>\n",
       "  </thead>\n",
       "  <tbody>\n",
       "    <tr>\n",
       "      <td>15</td>\n",
       "      <td>25.542600</td>\n",
       "    </tr>\n",
       "    <tr>\n",
       "      <td>30</td>\n",
       "      <td>25.524600</td>\n",
       "    </tr>\n",
       "    <tr>\n",
       "      <td>45</td>\n",
       "      <td>25.498500</td>\n",
       "    </tr>\n",
       "    <tr>\n",
       "      <td>60</td>\n",
       "      <td>25.293800</td>\n",
       "    </tr>\n",
       "    <tr>\n",
       "      <td>75</td>\n",
       "      <td>25.201000</td>\n",
       "    </tr>\n",
       "    <tr>\n",
       "      <td>90</td>\n",
       "      <td>25.195900</td>\n",
       "    </tr>\n",
       "    <tr>\n",
       "      <td>105</td>\n",
       "      <td>25.158500</td>\n",
       "    </tr>\n",
       "    <tr>\n",
       "      <td>120</td>\n",
       "      <td>25.047100</td>\n",
       "    </tr>\n",
       "    <tr>\n",
       "      <td>135</td>\n",
       "      <td>25.097800</td>\n",
       "    </tr>\n",
       "    <tr>\n",
       "      <td>150</td>\n",
       "      <td>24.872600</td>\n",
       "    </tr>\n",
       "    <tr>\n",
       "      <td>165</td>\n",
       "      <td>24.785000</td>\n",
       "    </tr>\n",
       "    <tr>\n",
       "      <td>180</td>\n",
       "      <td>24.853700</td>\n",
       "    </tr>\n",
       "    <tr>\n",
       "      <td>195</td>\n",
       "      <td>24.878800</td>\n",
       "    </tr>\n",
       "    <tr>\n",
       "      <td>210</td>\n",
       "      <td>24.719900</td>\n",
       "    </tr>\n",
       "    <tr>\n",
       "      <td>225</td>\n",
       "      <td>24.733400</td>\n",
       "    </tr>\n",
       "  </tbody>\n",
       "</table><p>"
      ],
      "text/plain": [
       "<IPython.core.display.HTML object>"
      ]
     },
     "metadata": {},
     "output_type": "display_data"
    },
    {
     "data": {
      "text/plain": [
       "TrainOutput(global_step=226, training_loss=25.090930618016067, metrics={'train_runtime': 5006.2004, 'train_samples_per_second': 1.443, 'train_steps_per_second': 0.045, 'total_flos': 6455664373137408.0, 'train_loss': 25.090930618016067, 'epoch': 0.02})"
      ]
     },
     "execution_count": 50,
     "metadata": {},
     "output_type": "execute_result"
    }
   ],
   "source": [
    "trainer.train()"
   ]
  },
  {
   "cell_type": "code",
   "execution_count": 51,
   "id": "f82c156f",
   "metadata": {},
   "outputs": [],
   "source": [
    "with open(\"pipeline_model_tuned_2.pickle\", \"wb\") as file:\n",
    "    pickle.dump(pipe.model, file)"
   ]
  },
  {
   "cell_type": "code",
   "execution_count": null,
   "id": "524f4234",
   "metadata": {},
   "outputs": [],
   "source": []
  },
  {
   "cell_type": "code",
   "execution_count": 75,
   "id": "6ce2e3c0",
   "metadata": {},
   "outputs": [
    {
     "name": "stderr",
     "output_type": "stream",
     "text": [
      "Some weights of MT5ForConditionalGeneration were not initialized from the model checkpoint at bigscience/mt0-base and are newly initialized: ['decoder.embed_tokens.weight']\n",
      "You should probably TRAIN this model on a down-stream task to be able to use it for predictions and inference.\n"
     ]
    }
   ],
   "source": [
    "try:\n",
    "    del pipe\n",
    "except NameError:\n",
    "    pass\n",
    "pipe = pipeline(\"text2text-generation\",\n",
    "                model=checkpoint,\n",
    "                device=\"cpu\",\n",
    "                tokenizer=tokenizer\n",
    "               )"
   ]
  },
  {
   "cell_type": "code",
   "execution_count": 76,
   "id": "894667ed",
   "metadata": {},
   "outputs": [],
   "source": [
    "import numpy as np\n",
    "\n",
    "vocabulary = tokenizer.get_vocab()\n",
    "embeddings = []\n",
    "for token in vocabulary:\n",
    "    input_ids = tokenizer.encode(token, return_tensors='pt')\n",
    "    \n",
    "    # remove BOS, EOS\n",
    "    if input_ids[0][0] == 259:\n",
    "        input_ids = input_ids[0, 1]\n",
    "    else:\n",
    "        input_ids = input_ids[0, 0]\n",
    "        \n",
    "    # update list\n",
    "    embeddings.append(pipe.model.get_input_embeddings()(input_ids))\n",
    "\n",
    "embeddings_matrix = torch.stack(embeddings, dim=0)\n",
    "embeddings_matrix = embeddings_matrix.detach().numpy()\n",
    "\n",
    "embeddings_matrix.shape\n",
    "\n",
    "tokenizer_inverse_vocab = {value : key for key, value in tokenizer.get_vocab().items()}"
   ]
  },
  {
   "cell_type": "code",
   "execution_count": 77,
   "id": "db8f6b9e",
   "metadata": {},
   "outputs": [],
   "source": [
    "def find_closest_row_cosine(matrix, vector):\n",
    "    # Calculate the cosine similarity between the vector and each row of the matrix\n",
    "    similarities = np.dot(matrix, vector) / (np.linalg.norm(matrix, axis=1) * np.linalg.norm(vector))\n",
    "    \n",
    "    # Find the index of the row with the highest cosine similarity\n",
    "    closest_row_index = np.argmax(similarities)\n",
    "    \n",
    "    return closest_row_index"
   ]
  },
  {
   "cell_type": "code",
   "execution_count": 81,
   "id": "f97efc72",
   "metadata": {},
   "outputs": [],
   "source": [
    "from torch.utils.data import Dataset, DataLoader\n",
    "\n",
    "class MyDataset(Dataset):\n",
    "    def __init__(self, data,\n",
    "                 train_name, target_name, ref_name, lp_name, src_name):\n",
    "        self.inputs = []\n",
    "        self.refs = []\n",
    "        self.lps = []\n",
    "        self.srcs = []\n",
    "        \n",
    "        self.targets = []\n",
    "        for element in data:\n",
    "            self.inputs.append(element[train_name])\n",
    "            \n",
    "            self.lps.append(element[lp_name])\n",
    "            self.targets.append(element[target_name])\n",
    "            \n",
    "            self.refs.append(element[ref_name])\n",
    "            #self.srcs.extend([element[src_name]] * len(element[target_name]))\n",
    "            self.srcs.append(element[src_name])\n",
    "    def __len__(self):\n",
    "        return len(self.inputs)\n",
    "\n",
    "    def __getitem__(self, idx):\n",
    "        torch.cuda.empty_cache()\n",
    "        # Implement logic to retrieve input and target data\n",
    "        \n",
    "        lang_from, lang_to = self.lps[idx].split(\"-\")\n",
    "        lang_from = abbr_to_language[lang_from]\n",
    "        lang_to = abbr_to_language[lang_to]\n",
    "        \n",
    "        injected_str = \"\"\n",
    "        with torch.no_grad():\n",
    "            for sentence in [self.srcs[idx], self.inputs[idx], self.refs[idx]]:\n",
    "                if sentence is None:\n",
    "                    sentence = \" \"\n",
    "                labse_embeds = sentence_model.encode(sentence)\n",
    "                # labse_embeds = np.concatenate([labse_embeds, np.zeros(256)]) #mt5-large\n",
    "                closest_idx = find_closest_row_cosine(embeddings_matrix, labse_embeds)\n",
    "                spec_token = tokenizer_inverse_vocab[closest_idx]\n",
    "                injected_str += spec_token\n",
    "                injected_str += \" \"\n",
    "        \n",
    "        prompt = get_gimba_prompt(lang_from, self.srcs[idx], lang_to, self.inputs[idx], self.refs[idx])\n",
    "        \n",
    "        # print(prompt)\n",
    "        \n",
    "        input_data = tokenizer(prompt, return_tensors=\"pt\")    \n",
    "        \n",
    "        for key in input_data.keys():\n",
    "            input_data[key] = input_data[key][0]\n",
    "        \n",
    "        # print(input_data[\"input_ids\"].shape)\n",
    "        \n",
    "        input_data['labels'] = torch.Tensor([self.targets[idx]])\n",
    "        \n",
    "        return input_data"
   ]
  },
  {
   "cell_type": "code",
   "execution_count": 82,
   "id": "7ecb839c",
   "metadata": {},
   "outputs": [],
   "source": [
    "finetune_dataset = MyDataset(train_dataset, \"mt\", \"raw\", \"ref\", \"lp\", \"src\")"
   ]
  },
  {
   "cell_type": "markdown",
   "id": "6e202fa9",
   "metadata": {},
   "source": [
    "input_tensor = torch.unsqueeze(\n",
    "                            torch.normal(torch.zeros(768),\n",
    "                                        torch.ones(768)).type(torch.int32),\n",
    "                            dim=0)\n",
    "\n",
    "pipe.model.decoder.block[0].forward(input_tensor)"
   ]
  },
  {
   "cell_type": "code",
   "execution_count": 83,
   "id": "211c8a9d",
   "metadata": {},
   "outputs": [
    {
     "data": {
      "text/plain": [
       "{'input_ids': tensor([ 62906,    287,    259,   9877,  53802,    702,   5413,    288,  22606,\n",
       "           514,   7521,    288,    287,   6910,  33749,    351,    259,    262,\n",
       "           317,  93317,  39009,    702,    497,    288,    966,    261,    259,\n",
       "          3001,    259,    262,  18575,    304,    497,    259,  12909,    313,\n",
       "           505,  31560,    786,  42816,    311,    305,  18575,    304,    966,\n",
       "           259,  12909,    313, 137988,  31560,    305,    259, 164814,   1191,\n",
       "          5413,  10219,    267,    313,   2009,    259,  93967,    263,    418,\n",
       "          3506,    261,    259,  99195,  14355,    702,   6604,   2225,    288,\n",
       "           287,  16780,    347,    317, 100180,    277,    263, 226932,    468,\n",
       "         24107,    351,   6665,   2454,  22606,   6910,  33749,    267,   1659,\n",
       "          5973,    270,  59058,  40503,    364, 143520,    272,    261,    398,\n",
       "          7873,    795,    442,  50389, 145701,   1581,   7565,   2774,  71571,\n",
       "           318, 162194,    281,   1071,  19182,   1015, 113017,    442,  13838,\n",
       "        131551,    412, 100180,   1995,  63552,    260,  22606,  53802,    267,\n",
       "           313,  13568,    364, 143520,    272,   1926,   3393,    265,    261,\n",
       "           398,   7873,    795,    442,   4962, 145701,   1581,   2774, 175606,\n",
       "         85047,    263, 143948,    442,  13838, 131551,    412, 100180,   1995,\n",
       "         63552,   2454,  62906,    267,      1]), 'attention_mask': tensor([1, 1, 1, 1, 1, 1, 1, 1, 1, 1, 1, 1, 1, 1, 1, 1, 1, 1, 1, 1, 1, 1, 1, 1,\n",
       "        1, 1, 1, 1, 1, 1, 1, 1, 1, 1, 1, 1, 1, 1, 1, 1, 1, 1, 1, 1, 1, 1, 1, 1,\n",
       "        1, 1, 1, 1, 1, 1, 1, 1, 1, 1, 1, 1, 1, 1, 1, 1, 1, 1, 1, 1, 1, 1, 1, 1,\n",
       "        1, 1, 1, 1, 1, 1, 1, 1, 1, 1, 1, 1, 1, 1, 1, 1, 1, 1, 1, 1, 1, 1, 1, 1,\n",
       "        1, 1, 1, 1, 1, 1, 1, 1, 1, 1, 1, 1, 1, 1, 1, 1, 1, 1, 1, 1, 1, 1, 1, 1,\n",
       "        1, 1, 1, 1, 1, 1, 1, 1, 1, 1, 1, 1, 1, 1, 1, 1, 1, 1, 1, 1, 1, 1, 1, 1,\n",
       "        1, 1, 1, 1, 1, 1, 1, 1, 1, 1, 1, 1, 1, 1]), 'labels': tensor([23.])}"
      ]
     },
     "execution_count": 83,
     "metadata": {},
     "output_type": "execute_result"
    }
   ],
   "source": [
    "finetune_dataset[1]"
   ]
  },
  {
   "cell_type": "code",
   "execution_count": 84,
   "id": "b0d833ee",
   "metadata": {},
   "outputs": [],
   "source": [
    "pad_token = 259"
   ]
  },
  {
   "cell_type": "code",
   "execution_count": 85,
   "id": "064bb717",
   "metadata": {},
   "outputs": [],
   "source": [
    "from transformers import Trainer, TrainingArguments"
   ]
  },
  {
   "cell_type": "code",
   "execution_count": 86,
   "id": "be636d90",
   "metadata": {},
   "outputs": [],
   "source": [
    "class EmbedFinetuneTrainer(Trainer):\n",
    "    def compute_loss(self, model, inputs, return_outputs=False):\n",
    "        outputs = model(**inputs)\n",
    "        return outputs.loss"
   ]
  },
  {
   "cell_type": "code",
   "execution_count": 87,
   "id": "c794d67f",
   "metadata": {},
   "outputs": [],
   "source": [
    "from transformers import DataCollatorForSeq2Seq"
   ]
  },
  {
   "cell_type": "code",
   "execution_count": 88,
   "id": "9f1f00a5",
   "metadata": {},
   "outputs": [],
   "source": [
    "collator = DataCollatorForSeq2Seq(tokenizer, label_pad_token_id = pad_token)"
   ]
  },
  {
   "cell_type": "code",
   "execution_count": 201,
   "id": "49d8c750",
   "metadata": {},
   "outputs": [],
   "source": [
    "training_args = TrainingArguments(\n",
    "    output_dir='./results',\n",
    "    num_train_epochs=0.005,\n",
    "    per_device_train_batch_size=32,\n",
    "    per_device_eval_batch_size=32,\n",
    "    warmup_steps=50,\n",
    "    weight_decay=0.01,\n",
    "    logging_dir='./logs',\n",
    "    logging_steps=15,\n",
    ")\n",
    "\n",
    "trainer = EmbedFinetuneTrainer(\n",
    "    model=pipe.model,\n",
    "    args=training_args,\n",
    "    train_dataset=finetune_dataset,\n",
    "    data_collator=collator\n",
    ")"
   ]
  },
  {
   "cell_type": "code",
   "execution_count": null,
   "id": "28e55280",
   "metadata": {},
   "outputs": [
    {
     "name": "stderr",
     "output_type": "stream",
     "text": [
      "/home/vlad/.local/lib/python3.10/site-packages/transformers/optimization.py:411: FutureWarning: This implementation of AdamW is deprecated and will be removed in a future version. Use the PyTorch implementation torch.optim.AdamW instead, or set `no_deprecation_warning=True` to disable this warning\n",
      "  warnings.warn(\n"
     ]
    },
    {
     "data": {
      "text/html": [
       "\n",
       "    <div>\n",
       "      \n",
       "      <progress value='7' max='57' style='width:300px; height:20px; vertical-align: middle;'></progress>\n",
       "      [ 7/57 06:43 < 1:07:16, 0.01 it/s, Epoch 0.00/1]\n",
       "    </div>\n",
       "    <table border=\"1\" class=\"dataframe\">\n",
       "  <thead>\n",
       " <tr style=\"text-align: left;\">\n",
       "      <th>Step</th>\n",
       "      <th>Training Loss</th>\n",
       "    </tr>\n",
       "  </thead>\n",
       "  <tbody>\n",
       "  </tbody>\n",
       "</table><p>"
      ],
      "text/plain": [
       "<IPython.core.display.HTML object>"
      ]
     },
     "metadata": {},
     "output_type": "display_data"
    }
   ],
   "source": [
    "trainer.train()"
   ]
  },
  {
   "cell_type": "code",
   "execution_count": null,
   "id": "1f3fbd2f",
   "metadata": {},
   "outputs": [],
   "source": [
    "with open(\"pipeline_model_tuned_3.pickle\", \"wb\") as file:\n",
    "    pickle.dump(pipe.model, file)"
   ]
  },
  {
   "cell_type": "code",
   "execution_count": null,
   "id": "1c77f95e",
   "metadata": {},
   "outputs": [],
   "source": []
  },
  {
   "cell_type": "code",
   "execution_count": 59,
   "id": "b44c8cb8",
   "metadata": {},
   "outputs": [],
   "source": [
    "import pandas as pd"
   ]
  },
  {
   "cell_type": "code",
   "execution_count": 63,
   "id": "0491fece",
   "metadata": {},
   "outputs": [],
   "source": [
    "df_stars_stats = pd.DataFrame({\"Step\" : np.arange(1, 16) * 15, \"Loss\" : [26.3544,26.3364,26.3103,\n",
    " 26.1056, 26.0128,26.0077, 25.9703,\n",
    " 25.8589, 25.9096,25.6844, 25.5968,\n",
    " 25.6655, 25.6906,25.5317, 25.5452]})"
   ]
  },
  {
   "cell_type": "code",
   "execution_count": 139,
   "id": "4afd7631",
   "metadata": {},
   "outputs": [],
   "source": [
    "df_onehundred_stats = pd.DataFrame({\"Step\" : np.arange(1, 16) * 15, \n",
    "\"Loss\" : [26.354400, 26.282500, 26.254900, 26.221800,\n",
    "26.183900, 26.118000, 26.060200, 25.958600,\n",
    "25.911200, 25.820500, 25.715700, 25.721000,\n",
    "25.610200, 25.639200, 25.611400]})\n",
    "df_onehundred_embeds = pd.DataFrame({\"Step\" : np.arange(1, 26) * 15, \n",
    "\"Loss\" : [26.3544    , 26.2344    , 26.1344    , 26.13407751, 25.97407751,\n",
    "       25.90407751, 25.81407751, 25.81475984, 25.81561868, 25.40561868,\n",
    "       25.26561868, 25.19561868, 25.06561868, 25.06537471, 25.06623023,\n",
    "       24.97623058, 24.91428024, 24.86631166, 24.83623067, 24.80018917,\n",
    "       24.7872728 , 24.83621636, 24.72132773, 24.63621242, 24.59415081]})"
   ]
  },
  {
   "cell_type": "code",
   "execution_count": null,
   "id": "df891f54",
   "metadata": {},
   "outputs": [],
   "source": []
  },
  {
   "cell_type": "code",
   "execution_count": 200,
   "id": "821eb5c9",
   "metadata": {},
   "outputs": [
    {
     "data": {
      "image/png": "[encoded data removed]",
      "text/plain": [
       "<Figure size 1080x720 with 1 Axes>"
      ]
     },
     "metadata": {
      "needs_background": "light"
     },
     "output_type": "display_data"
    }
   ],
   "source": [
    "plt.figure(figsize=(15,10))\n",
    "\n",
    "plt.plot(np.array(df_stars_stats[\"Step\"]), \n",
    "         np.array(df_stars_stats[\"Loss\"]) ,\n",
    "        label = \"II-1 loss\")\n",
    "plt.plot(np.array(df_stars_embeds[\"Step\"]), \n",
    "         df_stars_embeds[\"Loss\"],\n",
    "        label = \"II-2 loss\")\n",
    "plt.plot(np.array(df_onehundred_stats[\"Step\"]), \n",
    "         np.array(df_onehundred_stats[\"Loss\"]),\n",
    "        label = \"I-2 loss\")\n",
    "plt.plot(np.array(df_onehundred_embeds[\"Step\"]), \n",
    "         np.array(df_onehundred_embeds[\"Step\"]),\n",
    "        label = \"I-1 loss\")\n",
    "plt.title(\"Loss during training\")\n",
    "plt.legend()\n",
    "plt.show()"
   ]
  },
  {
   "cell_type": "code",
   "execution_count": null,
   "id": "e0d53f6e",
   "metadata": {},
   "outputs": [],
   "source": []
  },
  {
   "cell_type": "code",
   "execution_count": null,
   "id": "77ec3a58",
   "metadata": {},
   "outputs": [],
   "source": []
  }
 ],
 "metadata": {
  "kernelspec": {
   "display_name": "Python 3 (ipykernel)",
   "language": "python",
   "name": "python3"
  },
  "language_info": {
   "codemirror_mode": {
    "name": "ipython",
    "version": 3
   },
   "file_extension": ".py",
   "mimetype": "text/x-python",
   "name": "python",
   "nbconvert_exporter": "python",
   "pygments_lexer": "ipython3",
   "version": "3.10.6"
  }
 },
 "nbformat": 4,
 "nbformat_minor": 5
}
